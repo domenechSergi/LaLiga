{
  "cells": [
    {
      "cell_type": "markdown",
      "metadata": {
        "id": "view-in-github",
        "colab_type": "text"
      },
      "source": [
        "<a href=\"https://colab.research.google.com/github/domenechSergi/LaLiga/blob/main/analysis/LaLigaDataAnalysis.ipynb\" target=\"_parent\"><img src=\"https://colab.research.google.com/assets/colab-badge.svg\" alt=\"Open In Colab\"/></a>"
      ]
    },
    {
      "cell_type": "code",
      "execution_count": 20,
      "metadata": {
        "id": "v55VpzXdEoUu"
      },
      "outputs": [],
      "source": [
        "import pandas as pd\n",
        "import sqlite3\n",
        "import matplotlib.pyplot as plt\n",
        "import numpy as np"
      ]
    },
    {
      "cell_type": "code",
      "execution_count": 21,
      "metadata": {
        "colab": {
          "base_uri": "https://localhost:8080/"
        },
        "id": "YybNMn7XGPnp",
        "outputId": "a50ea67d-b645-4daf-cfb5-da0b91b11b43"
      },
      "outputs": [
        {
          "output_type": "stream",
          "name": "stdout",
          "text": [
            "--2023-01-17 20:31:48--  https://github.com/doctorfields/la-quiniela/raw/main/laliga.sqlite\n",
            "Resolving github.com (github.com)... 140.82.112.4\n",
            "Connecting to github.com (github.com)|140.82.112.4|:443... connected.\n",
            "HTTP request sent, awaiting response... 302 Found\n",
            "Location: https://raw.githubusercontent.com/doctorfields/la-quiniela/main/laliga.sqlite [following]\n",
            "--2023-01-17 20:31:49--  https://raw.githubusercontent.com/doctorfields/la-quiniela/main/laliga.sqlite\n",
            "Resolving raw.githubusercontent.com (raw.githubusercontent.com)... 185.199.108.133, 185.199.109.133, 185.199.110.133, ...\n",
            "Connecting to raw.githubusercontent.com (raw.githubusercontent.com)|185.199.108.133|:443... connected.\n",
            "HTTP request sent, awaiting response... 200 OK\n",
            "Length: 3706880 (3.5M) [application/octet-stream]\n",
            "Saving to: ‘laliga.sqlite.1’\n",
            "\n",
            "laliga.sqlite.1     100%[===================>]   3.54M  --.-KB/s    in 0.07s   \n",
            "\n",
            "2023-01-17 20:31:49 (51.3 MB/s) - ‘laliga.sqlite.1’ saved [3706880/3706880]\n",
            "\n"
          ]
        }
      ],
      "source": [
        "!cd /content\n",
        "!wget \"https://github.com/doctorfields/la-quiniela/raw/main/laliga.sqlite\""
      ]
    },
    {
      "cell_type": "code",
      "execution_count": null,
      "metadata": {
        "colab": {
          "base_uri": "https://localhost:8080/"
        },
        "id": "RL7Dl631FRyM",
        "outputId": "9ab8a1ed-5cd7-43bc-9deb-3349f62ea540"
      },
      "outputs": [
        {
          "output_type": "stream",
          "name": "stdout",
          "text": [
            "      season  division  matchday     date  time        home_team  \\\n",
            "0  1928-1929         1         1  2/10/29  None      Arenas Club   \n",
            "1  1928-1929         1         1  2/10/29  None         Espanyol   \n",
            "2  1928-1929         1         1  2/10/29  None      Real Madrid   \n",
            "3  1928-1929         1         1  2/10/29  None         Donostia   \n",
            "4  1928-1929         1         1  2/12/29  None           Racing   \n",
            "5  1928-1929         1         2  2/17/29  None        Barcelona   \n",
            "6  1928-1929         1         2  2/17/29  None         Athletic   \n",
            "7  1928-1929         1         2  2/17/29  None  Athletic Madrid   \n",
            "8  1928-1929         1         2  2/17/29  None       Real Unión   \n",
            "9  1928-1929         1         2  2/17/29  None        Catalunya   \n",
            "\n",
            "         away_team score  \n",
            "0  Athletic Madrid   2:3  \n",
            "1       Real Unión   3:2  \n",
            "2        Catalunya   5:0  \n",
            "3         Athletic   1:1  \n",
            "4        Barcelona   0:2  \n",
            "5      Real Madrid   1:2  \n",
            "6         Espanyol   9:0  \n",
            "7         Donostia   0:3  \n",
            "8           Racing   3:1  \n",
            "9      Arenas Club   5:2  \n"
          ]
        }
      ],
      "source": [
        "con = sqlite3.connect(\"laliga.sqlite\")\n",
        "df = pd.read_sql_query(\"SELECT * from Matches\", con)\n",
        "\n",
        "print(df.head(10))"
      ]
    },
    {
      "cell_type": "markdown",
      "metadata": {
        "id": "SIBDNva8KRPQ"
      },
      "source": [
        "# QUESTION 1: Is it true that the home team is more likely to win?\n",
        "\n",
        "Make a pie chart showing the result distribution (whether home team wins, visitor team wins, or\n",
        "there’s a tie) of all matches in the data. Write in the plot the percentage of\n",
        "each category."
      ]
    },
    {
      "cell_type": "code",
      "execution_count": null,
      "metadata": {
        "id": "a1VffQaugkFo"
      },
      "outputs": [],
      "source": [
        "# We will first create two new columns to store the goals of both home and visitor team as integers\n",
        "home_goals = []\n",
        "away_goals = []\n",
        "for i in range(len(df['score'])):\n",
        "  if df['score'][i] is not None:\n",
        "    home_goals.append(int(df['score'][i].split(':')[0]))\n",
        "    away_goals.append(int(df['score'][i].split(':')[1]))\n",
        "  else:\n",
        "    home_goals.append(None)\n",
        "    away_goals.append(None)\n",
        "\n",
        "df['Home Goals'] = home_goals\n",
        "df['Away Goals'] = away_goals\n",
        "#print(df.tail())"
      ]
    },
    {
      "cell_type": "code",
      "execution_count": null,
      "metadata": {
        "colab": {
          "base_uri": "https://localhost:8080/"
        },
        "id": "Obz8nLafk7Ao",
        "outputId": "63d7f545-c16f-43cf-d38b-0f70e1b1577d"
      },
      "outputs": [
        {
          "output_type": "stream",
          "name": "stdout",
          "text": [
            "      season  division  matchday     date  time    home_team        away_team  \\\n",
            "0  1928-1929         1         1  2/10/29  None  Arenas Club  Athletic Madrid   \n",
            "1  1928-1929         1         1  2/10/29  None     Espanyol       Real Unión   \n",
            "2  1928-1929         1         1  2/10/29  None  Real Madrid        Catalunya   \n",
            "3  1928-1929         1         1  2/10/29  None     Donostia         Athletic   \n",
            "4  1928-1929         1         1  2/12/29  None       Racing        Barcelona   \n",
            "\n",
            "  score  Home Goals  Away Goals Winner  \n",
            "0   2:3         2.0         3.0   Away  \n",
            "1   3:2         3.0         2.0   Home  \n",
            "2   5:0         5.0         0.0   Home  \n",
            "3   1:1         1.0         1.0    Tie  \n",
            "4   0:2         0.0         2.0   Away  \n"
          ]
        }
      ],
      "source": [
        "# We can now easily compare both columns and create a third one explicitly showing the winner\n",
        "winner = []\n",
        "for i in range(len(df)):\n",
        "  if df['Home Goals'][i] > df['Away Goals'][i]:\n",
        "    winner.append(\"Home\")\n",
        "  elif df['Home Goals'][i] < df['Away Goals'][i]:\n",
        "    winner.append(\"Away\")\n",
        "  elif df['Home Goals'][i] == df['Away Goals'][i]:\n",
        "    winner.append(\"Tie\")\n",
        "  else:\n",
        "    winner.append(\"No Info\")\n",
        "\n",
        "df['Winner'] = winner\n",
        "print(df.head())"
      ]
    },
    {
      "cell_type": "code",
      "execution_count": null,
      "metadata": {
        "colab": {
          "base_uri": "https://localhost:8080/",
          "height": 264
        },
        "id": "HAbSjm5pn5xw",
        "outputId": "3fca3ace-58db-45a1-a4cb-a7557587b475"
      },
      "outputs": [
        {
          "output_type": "display_data",
          "data": {
            "text/plain": [
              "<Figure size 432x288 with 1 Axes>"
            ],
            "image/png": "[encoded data removed]"
          },
          "metadata": {}
        }
      ],
      "source": [
        "# We can plot a pie chart using the vectors previously created\n",
        "chartv = np.array([winner.count(\"Home\"), winner.count(\"Away\"), winner.count(\"Tie\")])\n",
        "labels = [\"Home wins\", \"Away wins\", \"Tie\"]\n",
        "plt.pie(chartv, labels=labels, autopct='%1.2f%%')\n",
        "plt.title(\"Result distribution of all matches\")\n",
        "plt.show()"
      ]
    },
    {
      "cell_type": "markdown",
      "metadata": {
        "id": "j-5qzZgOKvyq"
      },
      "source": [
        "# QUESTION 2: What are the top ten scoring teams of all time? What are the ten teams that concede the most?\n",
        "\n",
        "Make two bar plot charts showing each of them.\n",
        "Consider only matches played in 1st division.\n",
        "\n",
        "#What have been the biggest wins? \n",
        "\n",
        "Of course, when we say biggest we mean\n",
        "those with the highest goal difference. Show the top ten of them in a table."
      ]
    },
    {
      "cell_type": "code",
      "execution_count": null,
      "metadata": {
        "colab": {
          "base_uri": "https://localhost:8080/",
          "height": 424
        },
        "id": "2rRqZPzMfPAX",
        "outputId": "bc4ee54d-80f7-4077-cf50-3c31d568670c"
      },
      "outputs": [
        {
          "output_type": "execute_result",
          "data": {
            "text/plain": [
              "               Team  Total Goals Scored  Total Goals Conceded\n",
              "10        Barcelona              6267.0                3259.0\n",
              "48      Real Madrid              6249.0                3287.0\n",
              "5          Athletic              4802.0                3875.0\n",
              "65         Valencia              4615.0                3649.0\n",
              "8   Atlético Madrid              4184.0                2894.0\n",
              "..              ...                 ...                   ...\n",
              "39           Lérida                41.0                 134.0\n",
              "67         Xerez CD                38.0                  66.0\n",
              "15        CD Condal                37.0                  57.0\n",
              "26      CyD Leonesa                34.0                  65.0\n",
              "64        UE Lleida                29.0                  48.0\n",
              "\n",
              "[68 rows x 3 columns]"
            ],
            "text/html": [
              "\n",
              "  <div id=\"df-af72a909-b2f6-4c2b-9389-dd17fa958c67\">\n",
              "    <div class=\"colab-df-container\">\n",
              "      <div>\n",
              "<style scoped>\n",
              "    .dataframe tbody tr th:only-of-type {\n",
              "        vertical-align: middle;\n",
              "    }\n",
              "\n",
              "    .dataframe tbody tr th {\n",
              "        vertical-align: top;\n",
              "    }\n",
              "\n",
              "    .dataframe thead th {\n",
              "        text-align: right;\n",
              "    }\n",
              "</style>\n",
              "<table border=\"1\" class=\"dataframe\">\n",
              "  <thead>\n",
              "    <tr style=\"text-align: right;\">\n",
              "      <th></th>\n",
              "      <th>Team</th>\n",
              "      <th>Total Goals Scored</th>\n",
              "      <th>Total Goals Conceded</th>\n",
              "    </tr>\n",
              "  </thead>\n",
              "  <tbody>\n",
              "    <tr>\n",
              "      <th>10</th>\n",
              "      <td>Barcelona</td>\n",
              "      <td>6267.0</td>\n",
              "      <td>3259.0</td>\n",
              "    </tr>\n",
              "    <tr>\n",
              "      <th>48</th>\n",
              "      <td>Real Madrid</td>\n",
              "      <td>6249.0</td>\n",
              "      <td>3287.0</td>\n",
              "    </tr>\n",
              "    <tr>\n",
              "      <th>5</th>\n",
              "      <td>Athletic</td>\n",
              "      <td>4802.0</td>\n",
              "      <td>3875.0</td>\n",
              "    </tr>\n",
              "    <tr>\n",
              "      <th>65</th>\n",
              "      <td>Valencia</td>\n",
              "      <td>4615.0</td>\n",
              "      <td>3649.0</td>\n",
              "    </tr>\n",
              "    <tr>\n",
              "      <th>8</th>\n",
              "      <td>Atlético Madrid</td>\n",
              "      <td>4184.0</td>\n",
              "      <td>2894.0</td>\n",
              "    </tr>\n",
              "    <tr>\n",
              "      <th>...</th>\n",
              "      <td>...</td>\n",
              "      <td>...</td>\n",
              "      <td>...</td>\n",
              "    </tr>\n",
              "    <tr>\n",
              "      <th>39</th>\n",
              "      <td>Lérida</td>\n",
              "      <td>41.0</td>\n",
              "      <td>134.0</td>\n",
              "    </tr>\n",
              "    <tr>\n",
              "      <th>67</th>\n",
              "      <td>Xerez CD</td>\n",
              "      <td>38.0</td>\n",
              "      <td>66.0</td>\n",
              "    </tr>\n",
              "    <tr>\n",
              "      <th>15</th>\n",
              "      <td>CD Condal</td>\n",
              "      <td>37.0</td>\n",
              "      <td>57.0</td>\n",
              "    </tr>\n",
              "    <tr>\n",
              "      <th>26</th>\n",
              "      <td>CyD Leonesa</td>\n",
              "      <td>34.0</td>\n",
              "      <td>65.0</td>\n",
              "    </tr>\n",
              "    <tr>\n",
              "      <th>64</th>\n",
              "      <td>UE Lleida</td>\n",
              "      <td>29.0</td>\n",
              "      <td>48.0</td>\n",
              "    </tr>\n",
              "  </tbody>\n",
              "</table>\n",
              "<p>68 rows × 3 columns</p>\n",
              "</div>\n",
              "      <button class=\"colab-df-convert\" onclick=\"convertToInteractive('df-af72a909-b2f6-4c2b-9389-dd17fa958c67')\"\n",
              "              title=\"Convert this dataframe to an interactive table.\"\n",
              "              style=\"display:none;\">\n",
              "        \n",
              "  <svg xmlns=\"http://www.w3.org/2000/svg\" height=\"24px\"viewBox=\"0 0 24 24\"\n",
              "       width=\"24px\">\n",
              "    <path d=\"M0 0h24v24H0V0z\" fill=\"none\"/>\n",
              "    <path d=\"M18.56 5.44l.94 2.06.94-2.06 2.06-.94-2.06-.94-.94-2.06-.94 2.06-2.06.94zm-11 1L8.5 8.5l.94-2.06 2.06-.94-2.06-.94L8.5 2.5l-.94 2.06-2.06.94zm10 10l.94 2.06.94-2.06 2.06-.94-2.06-.94-.94-2.06-.94 2.06-2.06.94z\"/><path d=\"M17.41 7.96l-1.37-1.37c-.4-.4-.92-.59-1.43-.59-.52 0-1.04.2-1.43.59L10.3 9.45l-7.72 7.72c-.78.78-.78 2.05 0 2.83L4 21.41c.39.39.9.59 1.41.59.51 0 1.02-.2 1.41-.59l7.78-7.78 2.81-2.81c.8-.78.8-2.07 0-2.86zM5.41 20L4 18.59l7.72-7.72 1.47 1.35L5.41 20z\"/>\n",
              "  </svg>\n",
              "      </button>\n",
              "      \n",
              "  <style>\n",
              "    .colab-df-container {\n",
              "      display:flex;\n",
              "      flex-wrap:wrap;\n",
              "      gap: 12px;\n",
              "    }\n",
              "\n",
              "    .colab-df-convert {\n",
              "      background-color: #E8F0FE;\n",
              "      border: none;\n",
              "      border-radius: 50%;\n",
              "      cursor: pointer;\n",
              "      display: none;\n",
              "      fill: #1967D2;\n",
              "      height: 32px;\n",
              "      padding: 0 0 0 0;\n",
              "      width: 32px;\n",
              "    }\n",
              "\n",
              "    .colab-df-convert:hover {\n",
              "      background-color: #E2EBFA;\n",
              "      box-shadow: 0px 1px 2px rgba(60, 64, 67, 0.3), 0px 1px 3px 1px rgba(60, 64, 67, 0.15);\n",
              "      fill: #174EA6;\n",
              "    }\n",
              "\n",
              "    [theme=dark] .colab-df-convert {\n",
              "      background-color: #3B4455;\n",
              "      fill: #D2E3FC;\n",
              "    }\n",
              "\n",
              "    [theme=dark] .colab-df-convert:hover {\n",
              "      background-color: #434B5C;\n",
              "      box-shadow: 0px 1px 3px 1px rgba(0, 0, 0, 0.15);\n",
              "      filter: drop-shadow(0px 1px 2px rgba(0, 0, 0, 0.3));\n",
              "      fill: #FFFFFF;\n",
              "    }\n",
              "  </style>\n",
              "\n",
              "      <script>\n",
              "        const buttonEl =\n",
              "          document.querySelector('#df-af72a909-b2f6-4c2b-9389-dd17fa958c67 button.colab-df-convert');\n",
              "        buttonEl.style.display =\n",
              "          google.colab.kernel.accessAllowed ? 'block' : 'none';\n",
              "\n",
              "        async function convertToInteractive(key) {\n",
              "          const element = document.querySelector('#df-af72a909-b2f6-4c2b-9389-dd17fa958c67');\n",
              "          const dataTable =\n",
              "            await google.colab.kernel.invokeFunction('convertToInteractive',\n",
              "                                                     [key], {});\n",
              "          if (!dataTable) return;\n",
              "\n",
              "          const docLinkHtml = 'Like what you see? Visit the ' +\n",
              "            '<a target=\"_blank\" href=https://colab.research.google.com/notebooks/data_table.ipynb>data table notebook</a>'\n",
              "            + ' to learn more about interactive tables.';\n",
              "          element.innerHTML = '';\n",
              "          dataTable['output_type'] = 'display_data';\n",
              "          await google.colab.output.renderOutput(dataTable, element);\n",
              "          const docLink = document.createElement('div');\n",
              "          docLink.innerHTML = docLinkHtml;\n",
              "          element.appendChild(docLink);\n",
              "        }\n",
              "      </script>\n",
              "    </div>\n",
              "  </div>\n",
              "  "
            ]
          },
          "metadata": {},
          "execution_count": 7
        }
      ],
      "source": [
        "teams = []\n",
        "total_goals_scored = []\n",
        "total_goals_conceded = []\n",
        "div1_df = df[df[\"division\"] == 1]\n",
        "\n",
        "for team in np.unique(div1_df['home_team']):\n",
        "  teams.append(team)\n",
        "  total_goals_scored.append(np.nansum(div1_df['Home Goals'][div1_df['home_team'] == team]) + np.nansum(div1_df['Away Goals'][div1_df['away_team'] == team]))\n",
        "  total_goals_conceded.append(np.nansum(div1_df['Home Goals'][div1_df['away_team'] == team]) + np.nansum(div1_df['Away Goals'][div1_df['home_team'] == team]))\n",
        "  \n",
        "# Let's create an auxiliary dataframe\n",
        "TeamStatistics_df = pd.DataFrame({'Team': teams, 'Total Goals Scored': total_goals_scored, 'Total Goals Conceded': total_goals_conceded})\n",
        "TeamStatistics_df = TeamStatistics_df.sort_values('Total Goals Scored', ascending = False)\n",
        "TeamStatistics_df"
      ]
    },
    {
      "cell_type": "code",
      "execution_count": null,
      "metadata": {
        "colab": {
          "base_uri": "https://localhost:8080/",
          "height": 677
        },
        "id": "3iDFkqabvrvw",
        "outputId": "14aea3c7-8db9-4967-9659-1583f06fb2c0"
      },
      "outputs": [
        {
          "output_type": "display_data",
          "data": {
            "text/plain": [
              "<Figure size 432x288 with 1 Axes>"
            ],
            "image/png": "[encoded data removed]"
          },
          "metadata": {
            "needs_background": "light"
          }
        },
        {
          "output_type": "display_data",
          "data": {
            "text/plain": [
              "<Figure size 432x288 with 1 Axes>"
            ],
            "image/png": "[encoded data removed]"
          },
          "metadata": {
            "needs_background": "light"
          }
        }
      ],
      "source": [
        "# We can now easily plot both top-10 scorers and top-10 conceders:\n",
        "\n",
        "TeamStatistics_df = TeamStatistics_df.sort_values('Total Goals Scored', ascending = False)\n",
        "plt.bar(TeamStatistics_df['Team'][:10], TeamStatistics_df['Total Goals Scored'][:10])\n",
        "plt.xticks(rotation=90)\n",
        "plt.ylabel(\"Goals\")\n",
        "plt.title(\"Top 10 scoring teams of all time\")\n",
        "plt.show()\n",
        "\n",
        "TeamStatistics_df = TeamStatistics_df.sort_values('Total Goals Conceded', ascending = False)\n",
        "plt.bar(TeamStatistics_df['Team'][:10], TeamStatistics_df['Total Goals Conceded'][:10])\n",
        "plt.xticks(rotation=90)\n",
        "plt.ylabel(\"Goals\")\n",
        "plt.title(\"Top 10 conceding teams of all time\")\n",
        "plt.show()"
      ]
    },
    {
      "cell_type": "code",
      "execution_count": null,
      "metadata": {
        "colab": {
          "base_uri": "https://localhost:8080/"
        },
        "id": "aVfdFtGM3c7g",
        "outputId": "28edfe0a-00c9-473f-9e24-ef6bf8a0f668"
      },
      "outputs": [
        {
          "output_type": "stream",
          "name": "stdout",
          "text": [
            "          season  matchday      date        home_team       away_team score  \\\n",
            "225    1930-1931        10    2/8/31         Athletic       Barcelona  12:1   \n",
            "936    1940-1941         1   9/29/40       Sevilla FC       Barcelona  11:1   \n",
            "2787   1950-1951        11  11/19/50         Athletic          Lérida  10:0   \n",
            "1168   1941-1942        15   1/11/42         Athletic   Celta de Vigo  10:0   \n",
            "1071   1941-1942         1   9/28/41       Sevilla FC     Real Oviedo  10:0   \n",
            "3629   1953-1954        26   3/28/54        Barcelona     Real Oviedo   9:0   \n",
            "10024  1978-1979        16   1/14/79        Barcelona  Rayo Vallecano   9:0   \n",
            "408    1932-1933        10   1/29/33           Racing          Alavés   9:0   \n",
            "5027   1959-1960        21    2/7/60      Real Madrid        Elche CF  11:2   \n",
            "3911   1955-1956         1   9/11/55  Atlético Madrid     Hércules CF   9:0   \n",
            "\n",
            "       Goal difference  \n",
            "225               11.0  \n",
            "936               10.0  \n",
            "2787              10.0  \n",
            "1168              10.0  \n",
            "1071              10.0  \n",
            "3629               9.0  \n",
            "10024              9.0  \n",
            "408                9.0  \n",
            "5027               9.0  \n",
            "3911               9.0  \n"
          ]
        },
        {
          "output_type": "stream",
          "name": "stderr",
          "text": [
            "<ipython-input-9-eaf582697cb8>:3: SettingWithCopyWarning: \n",
            "A value is trying to be set on a copy of a slice from a DataFrame.\n",
            "Try using .loc[row_indexer,col_indexer] = value instead\n",
            "\n",
            "See the caveats in the documentation: https://pandas.pydata.org/pandas-docs/stable/user_guide/indexing.html#returning-a-view-versus-a-copy\n",
            "  div1_df['Goal difference'] = goal_diff_pm\n"
          ]
        }
      ],
      "source": [
        "# We can also compute the biggest wins (in 1st division) by taking into account the biggest goal difference per match:\n",
        "goal_diff_pm = abs(div1_df['Home Goals'] - div1_df['Away Goals'])\n",
        "div1_df['Goal difference'] = goal_diff_pm\n",
        "\n",
        "print(div1_df.sort_values('Goal difference', ascending=False).iloc[:10,[0,2,3,5,6,7,11]])"
      ]
    },
    {
      "cell_type": "markdown",
      "metadata": {
        "id": "IkuEYUMnLNuC"
      },
      "source": [
        "# QUESTION 3: There has been a lot of discussion about how LaLiga’s television rights have changed game schedules in the last years. Make a bar plot chart showing the number of matches played each weekday, and make also a histogram of match time. Compare this two graphics between seasons 2000-2001 and 2020-2021."
      ]
    },
    {
      "cell_type": "code",
      "execution_count": null,
      "metadata": {
        "id": "fDUwJM5udHMx"
      },
      "outputs": [],
      "source": [
        "div1_df_season_1 = div1_df[div1_df[\"season\"] == \"2000-2001\"]\n",
        "div1_df_season_2 = div1_df[div1_df[\"season\"] == \"2020-2021\"]\n",
        "\n"
      ]
    },
    {
      "cell_type": "code",
      "execution_count": null,
      "metadata": {
        "colab": {
          "base_uri": "https://localhost:8080/",
          "height": 458
        },
        "id": "GXE0ByMyhqiV",
        "outputId": "828fe923-6519-4048-a629-3362bd079700"
      },
      "outputs": [
        {
          "output_type": "display_data",
          "data": {
            "text/plain": [
              "<Figure size 1080x504 with 1 Axes>"
            ],
            "image/png": "[encoded data removed]"
          },
          "metadata": {
            "needs_background": "light"
          }
        }
      ],
      "source": [
        "#We create new format of data entries for every match game\n",
        "from datetime import date\n",
        "import calendar\n",
        "\n",
        "year = []\n",
        "day = []\n",
        "month = []\n",
        "for i in range(len(df)):\n",
        "  if df['date'][i].split('/')[2] == int(df['season'][i].split('-')[0]) % 100:\n",
        "    year.append(int(df['season'][i].split('-')[0]))\n",
        "  else:\n",
        "    year.append(int(df['season'][i].split('-')[1]))\n",
        "\n",
        "  day.append(int(df['date'][i].split('/')[1]))\n",
        "  month.append(int(df['date'][i].split('/')[0]))\n",
        "\n",
        "df['Year'] = year\n",
        "df['Month'] = month\n",
        "df['Day'] = day\n",
        "\n",
        "weekday = []\n",
        "for i in range(len(df)):\n",
        "  weekday.append(calendar.day_name[date(df['Year'][i],df['Month'][i],df['Day'][i]).weekday()])\n",
        "\n",
        "df['Weekday'] = weekday\n",
        "\n",
        "#Use the data for seasons 2000-2001 and 2020-2021\n",
        "df_season_1 = df[df['season'] == '2000-2001']\n",
        "weekday_season_1 = df_season_1['Weekday'].tolist()\n",
        "\n",
        "df_season_2 = df[df['season'] == '2020-2021']\n",
        "weekday_season_2 = df_season_2['Weekday'].tolist()\n",
        "\n",
        "#Bar plot\n",
        "Counts_1 = [weekday_season_1 .count(\"Monday\"), weekday_season_1 .count(\"Tuesday\"), weekday_season_1 .count(\"Wednesday\"), weekday_season_1 .count(\"Thursday\"), weekday_season_1 .count(\"Friday\"), weekday_season_1 .count(\"Saturday\"), weekday_season_1 .count(\"Sunday\")]\n",
        "Counts_2 = [weekday_season_2 .count(\"Monday\"), weekday_season_2 .count(\"Tuesday\"), weekday_season_2 .count(\"Wednesday\"), weekday_season_2 .count(\"Thursday\"), weekday_season_2 .count(\"Friday\"), weekday_season_2 .count(\"Saturday\"), weekday_season_2 .count(\"Sunday\")]\n",
        "Label = ['Monday', 'Tuesday', 'Wednesday', 'Thursday', 'Friday', 'Saturday', 'Sunday']\n",
        "X_axis = np.arange(len(Label))\n",
        "plt.figure(figsize=(15,7))\n",
        "plt.bar(X_axis - 0.2, Counts_1, 0.4, label = '2000-2001')\n",
        "plt.bar(X_axis + 0.2, Counts_2, 0.4, label = '2020-2021')\n",
        "\n",
        "plt.xticks(X_axis, Label)\n",
        "plt.xlabel(\"Weekday\")\n",
        "plt.ylabel(\"Matches\")\n",
        "plt.title(\"Weekday matches comparison\")\n",
        "plt.legend()\n",
        "plt.show()\n"
      ]
    },
    {
      "cell_type": "code",
      "execution_count": null,
      "metadata": {
        "colab": {
          "base_uri": "https://localhost:8080/",
          "height": 906
        },
        "id": "OlpxpWKqHVIe",
        "outputId": "a717c6db-a582-4c43-ae3a-932e25c65f72"
      },
      "outputs": [
        {
          "output_type": "stream",
          "name": "stderr",
          "text": [
            "<ipython-input-12-72b81ee9043e>:3: SettingWithCopyWarning: \n",
            "A value is trying to be set on a copy of a slice from a DataFrame.\n",
            "Try using .loc[row_indexer,col_indexer] = value instead\n",
            "\n",
            "See the caveats in the documentation: https://pandas.pydata.org/pandas-docs/stable/user_guide/indexing.html#returning-a-view-versus-a-copy\n",
            "  div1_df_season_1[\"time\"] = pd.Categorical(div1_df_season_1[\"time\"], categories = time_categories1)\n"
          ]
        },
        {
          "output_type": "display_data",
          "data": {
            "text/plain": [
              "<Figure size 432x288 with 1 Axes>"
            ],
            "image/png": "[encoded data removed]"
          },
          "metadata": {
            "needs_background": "light"
          }
        },
        {
          "output_type": "stream",
          "name": "stderr",
          "text": [
            "<ipython-input-12-72b81ee9043e>:12: SettingWithCopyWarning: \n",
            "A value is trying to be set on a copy of a slice from a DataFrame.\n",
            "Try using .loc[row_indexer,col_indexer] = value instead\n",
            "\n",
            "See the caveats in the documentation: https://pandas.pydata.org/pandas-docs/stable/user_guide/indexing.html#returning-a-view-versus-a-copy\n",
            "  div1_df_season_2[\"time\"] = pd.Categorical(div1_df_season_2[\"time\"], categories = time_categories2)\n"
          ]
        },
        {
          "output_type": "error",
          "ename": "KeyboardInterrupt",
          "evalue": "ignored",
          "traceback": [
            "\u001b[0;31m---------------------------------------------------------------------------\u001b[0m",
            "\u001b[0;31mKeyboardInterrupt\u001b[0m                         Traceback (most recent call last)",
            "\u001b[0;32m<ipython-input-12-72b81ee9043e>\u001b[0m in \u001b[0;36m<module>\u001b[0;34m\u001b[0m\n\u001b[1;32m     12\u001b[0m \u001b[0mdiv1_df_season_2\u001b[0m\u001b[0;34m[\u001b[0m\u001b[0;34m\"time\"\u001b[0m\u001b[0;34m]\u001b[0m \u001b[0;34m=\u001b[0m \u001b[0mpd\u001b[0m\u001b[0;34m.\u001b[0m\u001b[0mCategorical\u001b[0m\u001b[0;34m(\u001b[0m\u001b[0mdiv1_df_season_2\u001b[0m\u001b[0;34m[\u001b[0m\u001b[0;34m\"time\"\u001b[0m\u001b[0;34m]\u001b[0m\u001b[0;34m,\u001b[0m \u001b[0mcategories\u001b[0m \u001b[0;34m=\u001b[0m \u001b[0mtime_categories2\u001b[0m\u001b[0;34m)\u001b[0m\u001b[0;34m\u001b[0m\u001b[0;34m\u001b[0m\u001b[0m\n\u001b[1;32m     13\u001b[0m \u001b[0msort_2\u001b[0m\u001b[0;34m=\u001b[0m\u001b[0mdiv1_df_season_2\u001b[0m\u001b[0;34m[\u001b[0m\u001b[0;34m\"time\"\u001b[0m\u001b[0;34m]\u001b[0m\u001b[0;34m.\u001b[0m\u001b[0mdropna\u001b[0m\u001b[0;34m(\u001b[0m\u001b[0;34m)\u001b[0m\u001b[0;34m\u001b[0m\u001b[0;34m\u001b[0m\u001b[0m\n\u001b[0;32m---> 14\u001b[0;31m \u001b[0mplt\u001b[0m\u001b[0;34m.\u001b[0m\u001b[0mxticks\u001b[0m\u001b[0;34m(\u001b[0m\u001b[0mrotation\u001b[0m\u001b[0;34m=\u001b[0m\u001b[0;36m90\u001b[0m\u001b[0;34m)\u001b[0m\u001b[0;34m\u001b[0m\u001b[0;34m\u001b[0m\u001b[0m\n\u001b[0m\u001b[1;32m     15\u001b[0m \u001b[0mplt\u001b[0m\u001b[0;34m.\u001b[0m\u001b[0mhist\u001b[0m\u001b[0;34m(\u001b[0m\u001b[0msort_2\u001b[0m\u001b[0;34m.\u001b[0m\u001b[0msort_values\u001b[0m\u001b[0;34m(\u001b[0m\u001b[0;34m)\u001b[0m\u001b[0;34m)\u001b[0m\u001b[0;34m\u001b[0m\u001b[0;34m\u001b[0m\u001b[0m\n\u001b[1;32m     16\u001b[0m \u001b[0mplt\u001b[0m\u001b[0;34m.\u001b[0m\u001b[0mylabel\u001b[0m\u001b[0;34m(\u001b[0m\u001b[0;34m\"Number of games\"\u001b[0m\u001b[0;34m)\u001b[0m\u001b[0;34m\u001b[0m\u001b[0;34m\u001b[0m\u001b[0m\n",
            "\u001b[0;32m/usr/local/lib/python3.8/dist-packages/matplotlib/pyplot.py\u001b[0m in \u001b[0;36mxticks\u001b[0;34m(ticks, labels, **kwargs)\u001b[0m\n\u001b[1;32m   1475\u001b[0m     \u001b[0;34m>>\u001b[0m\u001b[0;34m>\u001b[0m \u001b[0mxticks\u001b[0m\u001b[0;34m(\u001b[0m\u001b[0;34m[\u001b[0m\u001b[0;34m]\u001b[0m\u001b[0;34m)\u001b[0m  \u001b[0;31m# Disable xticks.\u001b[0m\u001b[0;34m\u001b[0m\u001b[0;34m\u001b[0m\u001b[0m\n\u001b[1;32m   1476\u001b[0m     \"\"\"\n\u001b[0;32m-> 1477\u001b[0;31m     \u001b[0max\u001b[0m \u001b[0;34m=\u001b[0m \u001b[0mgca\u001b[0m\u001b[0;34m(\u001b[0m\u001b[0;34m)\u001b[0m\u001b[0;34m\u001b[0m\u001b[0;34m\u001b[0m\u001b[0m\n\u001b[0m\u001b[1;32m   1478\u001b[0m \u001b[0;34m\u001b[0m\u001b[0m\n\u001b[1;32m   1479\u001b[0m     \u001b[0;32mif\u001b[0m \u001b[0mticks\u001b[0m \u001b[0;32mis\u001b[0m \u001b[0;32mNone\u001b[0m \u001b[0;32mand\u001b[0m \u001b[0mlabels\u001b[0m \u001b[0;32mis\u001b[0m \u001b[0;32mNone\u001b[0m\u001b[0;34m:\u001b[0m\u001b[0;34m\u001b[0m\u001b[0;34m\u001b[0m\u001b[0m\n",
            "\u001b[0;32m/usr/local/lib/python3.8/dist-packages/matplotlib/pyplot.py\u001b[0m in \u001b[0;36mgca\u001b[0;34m(**kwargs)\u001b[0m\n\u001b[1;32m    877\u001b[0m     \u001b[0mmatplotlib\u001b[0m\u001b[0;34m.\u001b[0m\u001b[0mfigure\u001b[0m\u001b[0;34m.\u001b[0m\u001b[0mFigure\u001b[0m\u001b[0;34m.\u001b[0m\u001b[0mgca\u001b[0m \u001b[0;34m:\u001b[0m \u001b[0mThe\u001b[0m \u001b[0mfigure\u001b[0m\u001b[0;31m'\u001b[0m\u001b[0ms\u001b[0m \u001b[0mgca\u001b[0m \u001b[0mmethod\u001b[0m\u001b[0;34m.\u001b[0m\u001b[0;34m\u001b[0m\u001b[0;34m\u001b[0m\u001b[0m\n\u001b[1;32m    878\u001b[0m     \"\"\"\n\u001b[0;32m--> 879\u001b[0;31m     \u001b[0;32mreturn\u001b[0m \u001b[0mgcf\u001b[0m\u001b[0;34m(\u001b[0m\u001b[0;34m)\u001b[0m\u001b[0;34m.\u001b[0m\u001b[0mgca\u001b[0m\u001b[0;34m(\u001b[0m\u001b[0;34m**\u001b[0m\u001b[0mkwargs\u001b[0m\u001b[0;34m)\u001b[0m\u001b[0;34m\u001b[0m\u001b[0;34m\u001b[0m\u001b[0m\n\u001b[0m\u001b[1;32m    880\u001b[0m \u001b[0;34m\u001b[0m\u001b[0m\n\u001b[1;32m    881\u001b[0m \u001b[0;34m\u001b[0m\u001b[0m\n",
            "\u001b[0;32m/usr/local/lib/python3.8/dist-packages/matplotlib/figure.py\u001b[0m in \u001b[0;36mgca\u001b[0;34m(self, **kwargs)\u001b[0m\n\u001b[1;32m   1955\u001b[0m \u001b[0;34m\u001b[0m\u001b[0m\n\u001b[1;32m   1956\u001b[0m         \u001b[0;31m# no axes found, so create one which spans the figure\u001b[0m\u001b[0;34m\u001b[0m\u001b[0;34m\u001b[0m\u001b[0;34m\u001b[0m\u001b[0m\n\u001b[0;32m-> 1957\u001b[0;31m         \u001b[0;32mreturn\u001b[0m \u001b[0mself\u001b[0m\u001b[0;34m.\u001b[0m\u001b[0madd_subplot\u001b[0m\u001b[0;34m(\u001b[0m\u001b[0;36m1\u001b[0m\u001b[0;34m,\u001b[0m \u001b[0;36m1\u001b[0m\u001b[0;34m,\u001b[0m \u001b[0;36m1\u001b[0m\u001b[0;34m,\u001b[0m \u001b[0;34m**\u001b[0m\u001b[0mkwargs\u001b[0m\u001b[0;34m)\u001b[0m\u001b[0;34m\u001b[0m\u001b[0;34m\u001b[0m\u001b[0m\n\u001b[0m\u001b[1;32m   1958\u001b[0m \u001b[0;34m\u001b[0m\u001b[0m\n\u001b[1;32m   1959\u001b[0m     \u001b[0;32mdef\u001b[0m \u001b[0msca\u001b[0m\u001b[0;34m(\u001b[0m\u001b[0mself\u001b[0m\u001b[0;34m,\u001b[0m \u001b[0ma\u001b[0m\u001b[0;34m)\u001b[0m\u001b[0;34m:\u001b[0m\u001b[0;34m\u001b[0m\u001b[0;34m\u001b[0m\u001b[0m\n",
            "\u001b[0;32m/usr/local/lib/python3.8/dist-packages/matplotlib/figure.py\u001b[0m in \u001b[0;36madd_subplot\u001b[0;34m(self, *args, **kwargs)\u001b[0m\n\u001b[1;32m   1417\u001b[0m                     \u001b[0mself\u001b[0m\u001b[0;34m.\u001b[0m\u001b[0m_axstack\u001b[0m\u001b[0;34m.\u001b[0m\u001b[0mremove\u001b[0m\u001b[0;34m(\u001b[0m\u001b[0max\u001b[0m\u001b[0;34m)\u001b[0m\u001b[0;34m\u001b[0m\u001b[0;34m\u001b[0m\u001b[0m\n\u001b[1;32m   1418\u001b[0m \u001b[0;34m\u001b[0m\u001b[0m\n\u001b[0;32m-> 1419\u001b[0;31m             \u001b[0ma\u001b[0m \u001b[0;34m=\u001b[0m \u001b[0msubplot_class_factory\u001b[0m\u001b[0;34m(\u001b[0m\u001b[0mprojection_class\u001b[0m\u001b[0;34m)\u001b[0m\u001b[0;34m(\u001b[0m\u001b[0mself\u001b[0m\u001b[0;34m,\u001b[0m \u001b[0;34m*\u001b[0m\u001b[0margs\u001b[0m\u001b[0;34m,\u001b[0m \u001b[0;34m**\u001b[0m\u001b[0mkwargs\u001b[0m\u001b[0;34m)\u001b[0m\u001b[0;34m\u001b[0m\u001b[0;34m\u001b[0m\u001b[0m\n\u001b[0m\u001b[1;32m   1420\u001b[0m \u001b[0;34m\u001b[0m\u001b[0m\n\u001b[1;32m   1421\u001b[0m         \u001b[0;32mreturn\u001b[0m \u001b[0mself\u001b[0m\u001b[0;34m.\u001b[0m\u001b[0m_add_axes_internal\u001b[0m\u001b[0;34m(\u001b[0m\u001b[0mkey\u001b[0m\u001b[0;34m,\u001b[0m \u001b[0ma\u001b[0m\u001b[0;34m)\u001b[0m\u001b[0;34m\u001b[0m\u001b[0;34m\u001b[0m\u001b[0m\n",
            "\u001b[0;32m/usr/local/lib/python3.8/dist-packages/matplotlib/axes/_subplots.py\u001b[0m in \u001b[0;36m__init__\u001b[0;34m(self, fig, *args, **kwargs)\u001b[0m\n\u001b[1;32m     74\u001b[0m \u001b[0;34m\u001b[0m\u001b[0m\n\u001b[1;32m     75\u001b[0m         \u001b[0;31m# _axes_class is set in the subplot_class_factory\u001b[0m\u001b[0;34m\u001b[0m\u001b[0;34m\u001b[0m\u001b[0;34m\u001b[0m\u001b[0m\n\u001b[0;32m---> 76\u001b[0;31m         \u001b[0mself\u001b[0m\u001b[0;34m.\u001b[0m\u001b[0m_axes_class\u001b[0m\u001b[0;34m.\u001b[0m\u001b[0m__init__\u001b[0m\u001b[0;34m(\u001b[0m\u001b[0mself\u001b[0m\u001b[0;34m,\u001b[0m \u001b[0mfig\u001b[0m\u001b[0;34m,\u001b[0m \u001b[0mself\u001b[0m\u001b[0;34m.\u001b[0m\u001b[0mfigbox\u001b[0m\u001b[0;34m,\u001b[0m \u001b[0;34m**\u001b[0m\u001b[0mkwargs\u001b[0m\u001b[0;34m)\u001b[0m\u001b[0;34m\u001b[0m\u001b[0;34m\u001b[0m\u001b[0m\n\u001b[0m\u001b[1;32m     77\u001b[0m         \u001b[0;31m# add a layout box to this, for both the full axis, and the poss\u001b[0m\u001b[0;34m\u001b[0m\u001b[0;34m\u001b[0m\u001b[0;34m\u001b[0m\u001b[0m\n\u001b[1;32m     78\u001b[0m         \u001b[0;31m# of the axis.  We need both because the axes may become smaller\u001b[0m\u001b[0;34m\u001b[0m\u001b[0;34m\u001b[0m\u001b[0;34m\u001b[0m\u001b[0m\n",
            "\u001b[0;32m/usr/local/lib/python3.8/dist-packages/matplotlib/axes/_base.py\u001b[0m in \u001b[0;36m__init__\u001b[0;34m(self, fig, rect, facecolor, frameon, sharex, sharey, label, xscale, yscale, **kwargs)\u001b[0m\n\u001b[1;32m    452\u001b[0m \u001b[0;34m\u001b[0m\u001b[0m\n\u001b[1;32m    453\u001b[0m         \u001b[0mself\u001b[0m\u001b[0;34m.\u001b[0m\u001b[0m_rasterization_zorder\u001b[0m \u001b[0;34m=\u001b[0m \u001b[0;32mNone\u001b[0m\u001b[0;34m\u001b[0m\u001b[0;34m\u001b[0m\u001b[0m\n\u001b[0;32m--> 454\u001b[0;31m         \u001b[0mself\u001b[0m\u001b[0;34m.\u001b[0m\u001b[0mcla\u001b[0m\u001b[0;34m(\u001b[0m\u001b[0;34m)\u001b[0m\u001b[0;34m\u001b[0m\u001b[0;34m\u001b[0m\u001b[0m\n\u001b[0m\u001b[1;32m    455\u001b[0m \u001b[0;34m\u001b[0m\u001b[0m\n\u001b[1;32m    456\u001b[0m         \u001b[0;31m# funcs used to format x and y - fall back on major formatters\u001b[0m\u001b[0;34m\u001b[0m\u001b[0;34m\u001b[0m\u001b[0;34m\u001b[0m\u001b[0m\n",
            "\u001b[0;32m/usr/local/lib/python3.8/dist-packages/matplotlib/axes/_base.py\u001b[0m in \u001b[0;36mcla\u001b[0;34m(self)\u001b[0m\n\u001b[1;32m   1031\u001b[0m         \u001b[0mself\u001b[0m\u001b[0;34m.\u001b[0m\u001b[0mcontainers\u001b[0m \u001b[0;34m=\u001b[0m \u001b[0;34m[\u001b[0m\u001b[0;34m]\u001b[0m\u001b[0;34m\u001b[0m\u001b[0;34m\u001b[0m\u001b[0m\n\u001b[1;32m   1032\u001b[0m \u001b[0;34m\u001b[0m\u001b[0m\n\u001b[0;32m-> 1033\u001b[0;31m         \u001b[0mself\u001b[0m\u001b[0;34m.\u001b[0m\u001b[0mgrid\u001b[0m\u001b[0;34m(\u001b[0m\u001b[0;32mFalse\u001b[0m\u001b[0;34m)\u001b[0m  \u001b[0;31m# Disable grid on init to use rcParameter\u001b[0m\u001b[0;34m\u001b[0m\u001b[0;34m\u001b[0m\u001b[0m\n\u001b[0m\u001b[1;32m   1034\u001b[0m         self.grid(self._gridOn, which=rcParams['axes.grid.which'],\n\u001b[1;32m   1035\u001b[0m                   axis=rcParams['axes.grid.axis'])\n",
            "\u001b[0;32m/usr/local/lib/python3.8/dist-packages/matplotlib/axes/_base.py\u001b[0m in \u001b[0;36mgrid\u001b[0;34m(self, b, which, axis, **kwargs)\u001b[0m\n\u001b[1;32m   2768\u001b[0m             \u001b[0mself\u001b[0m\u001b[0;34m.\u001b[0m\u001b[0mxaxis\u001b[0m\u001b[0;34m.\u001b[0m\u001b[0mgrid\u001b[0m\u001b[0;34m(\u001b[0m\u001b[0mb\u001b[0m\u001b[0;34m,\u001b[0m \u001b[0mwhich\u001b[0m\u001b[0;34m=\u001b[0m\u001b[0mwhich\u001b[0m\u001b[0;34m,\u001b[0m \u001b[0;34m**\u001b[0m\u001b[0mkwargs\u001b[0m\u001b[0;34m)\u001b[0m\u001b[0;34m\u001b[0m\u001b[0;34m\u001b[0m\u001b[0m\n\u001b[1;32m   2769\u001b[0m         \u001b[0;32mif\u001b[0m \u001b[0maxis\u001b[0m \u001b[0;32min\u001b[0m \u001b[0;34m[\u001b[0m\u001b[0;34m'y'\u001b[0m\u001b[0;34m,\u001b[0m \u001b[0;34m'both'\u001b[0m\u001b[0;34m]\u001b[0m\u001b[0;34m:\u001b[0m\u001b[0;34m\u001b[0m\u001b[0;34m\u001b[0m\u001b[0m\n\u001b[0;32m-> 2770\u001b[0;31m             \u001b[0mself\u001b[0m\u001b[0;34m.\u001b[0m\u001b[0myaxis\u001b[0m\u001b[0;34m.\u001b[0m\u001b[0mgrid\u001b[0m\u001b[0;34m(\u001b[0m\u001b[0mb\u001b[0m\u001b[0;34m,\u001b[0m \u001b[0mwhich\u001b[0m\u001b[0;34m=\u001b[0m\u001b[0mwhich\u001b[0m\u001b[0;34m,\u001b[0m \u001b[0;34m**\u001b[0m\u001b[0mkwargs\u001b[0m\u001b[0;34m)\u001b[0m\u001b[0;34m\u001b[0m\u001b[0;34m\u001b[0m\u001b[0m\n\u001b[0m\u001b[1;32m   2771\u001b[0m \u001b[0;34m\u001b[0m\u001b[0m\n\u001b[1;32m   2772\u001b[0m     def ticklabel_format(self, *, axis='both', style='', scilimits=None,\n",
            "\u001b[0;32m/usr/local/lib/python3.8/dist-packages/matplotlib/axis.py\u001b[0m in \u001b[0;36mgrid\u001b[0;34m(self, b, which, **kwargs)\u001b[0m\n\u001b[1;32m   1498\u001b[0m             \u001b[0;32melse\u001b[0m\u001b[0;34m:\u001b[0m\u001b[0;34m\u001b[0m\u001b[0;34m\u001b[0m\u001b[0m\n\u001b[1;32m   1499\u001b[0m                 \u001b[0mself\u001b[0m\u001b[0;34m.\u001b[0m\u001b[0m_gridOnMajor\u001b[0m \u001b[0;34m=\u001b[0m \u001b[0mb\u001b[0m\u001b[0;34m\u001b[0m\u001b[0;34m\u001b[0m\u001b[0m\n\u001b[0;32m-> 1500\u001b[0;31m             self.set_tick_params(which='major', gridOn=self._gridOnMajor,\n\u001b[0m\u001b[1;32m   1501\u001b[0m                                  **gridkw)\n\u001b[1;32m   1502\u001b[0m         \u001b[0mself\u001b[0m\u001b[0;34m.\u001b[0m\u001b[0mstale\u001b[0m \u001b[0;34m=\u001b[0m \u001b[0;32mTrue\u001b[0m\u001b[0;34m\u001b[0m\u001b[0;34m\u001b[0m\u001b[0m\n",
            "\u001b[0;32m/usr/local/lib/python3.8/dist-packages/matplotlib/axis.py\u001b[0m in \u001b[0;36mset_tick_params\u001b[0;34m(self, which, reset, **kw)\u001b[0m\n\u001b[1;32m    908\u001b[0m             \u001b[0;31m# apply the new kwargs to the existing ticks\u001b[0m\u001b[0;34m\u001b[0m\u001b[0;34m\u001b[0m\u001b[0;34m\u001b[0m\u001b[0m\n\u001b[1;32m    909\u001b[0m             \u001b[0;32mif\u001b[0m \u001b[0mwhich\u001b[0m \u001b[0;34m==\u001b[0m \u001b[0;34m'major'\u001b[0m \u001b[0;32mor\u001b[0m \u001b[0mwhich\u001b[0m \u001b[0;34m==\u001b[0m \u001b[0;34m'both'\u001b[0m\u001b[0;34m:\u001b[0m\u001b[0;34m\u001b[0m\u001b[0;34m\u001b[0m\u001b[0m\n\u001b[0;32m--> 910\u001b[0;31m                 \u001b[0;32mfor\u001b[0m \u001b[0mtick\u001b[0m \u001b[0;32min\u001b[0m \u001b[0mself\u001b[0m\u001b[0;34m.\u001b[0m\u001b[0mmajorTicks\u001b[0m\u001b[0;34m:\u001b[0m\u001b[0;34m\u001b[0m\u001b[0;34m\u001b[0m\u001b[0m\n\u001b[0m\u001b[1;32m    911\u001b[0m                     \u001b[0mtick\u001b[0m\u001b[0;34m.\u001b[0m\u001b[0m_apply_params\u001b[0m\u001b[0;34m(\u001b[0m\u001b[0;34m**\u001b[0m\u001b[0mkwtrans\u001b[0m\u001b[0;34m)\u001b[0m\u001b[0;34m\u001b[0m\u001b[0;34m\u001b[0m\u001b[0m\n\u001b[1;32m    912\u001b[0m             \u001b[0;32mif\u001b[0m \u001b[0mwhich\u001b[0m \u001b[0;34m==\u001b[0m \u001b[0;34m'minor'\u001b[0m \u001b[0;32mor\u001b[0m \u001b[0mwhich\u001b[0m \u001b[0;34m==\u001b[0m \u001b[0;34m'both'\u001b[0m\u001b[0;34m:\u001b[0m\u001b[0;34m\u001b[0m\u001b[0;34m\u001b[0m\u001b[0m\n",
            "\u001b[0;32m/usr/local/lib/python3.8/dist-packages/matplotlib/axis.py\u001b[0m in \u001b[0;36m__get__\u001b[0;34m(self, instance, cls)\u001b[0m\n\u001b[1;32m    697\u001b[0m                 \u001b[0minstance\u001b[0m\u001b[0;34m.\u001b[0m\u001b[0mmajorTicks\u001b[0m \u001b[0;34m=\u001b[0m \u001b[0;34m[\u001b[0m\u001b[0;34m]\u001b[0m\u001b[0;34m\u001b[0m\u001b[0;34m\u001b[0m\u001b[0m\n\u001b[1;32m    698\u001b[0m                 \u001b[0mtick\u001b[0m \u001b[0;34m=\u001b[0m \u001b[0minstance\u001b[0m\u001b[0;34m.\u001b[0m\u001b[0m_get_tick\u001b[0m\u001b[0;34m(\u001b[0m\u001b[0mmajor\u001b[0m\u001b[0;34m=\u001b[0m\u001b[0;32mTrue\u001b[0m\u001b[0;34m)\u001b[0m\u001b[0;34m\u001b[0m\u001b[0;34m\u001b[0m\u001b[0m\n\u001b[0;32m--> 699\u001b[0;31m                 \u001b[0minstance\u001b[0m\u001b[0;34m.\u001b[0m\u001b[0mmajorTicks\u001b[0m\u001b[0;34m.\u001b[0m\u001b[0mappend\u001b[0m\u001b[0;34m(\u001b[0m\u001b[0mtick\u001b[0m\u001b[0;34m)\u001b[0m\u001b[0;34m\u001b[0m\u001b[0;34m\u001b[0m\u001b[0m\n\u001b[0m\u001b[1;32m    700\u001b[0m                 \u001b[0;32mreturn\u001b[0m \u001b[0minstance\u001b[0m\u001b[0;34m.\u001b[0m\u001b[0mmajorTicks\u001b[0m\u001b[0;34m\u001b[0m\u001b[0;34m\u001b[0m\u001b[0m\n\u001b[1;32m    701\u001b[0m             \u001b[0;32melse\u001b[0m\u001b[0;34m:\u001b[0m\u001b[0;34m\u001b[0m\u001b[0;34m\u001b[0m\u001b[0m\n",
            "\u001b[0;32m/usr/local/lib/python3.8/dist-packages/matplotlib/axis.py\u001b[0m in \u001b[0;36m__get__\u001b[0;34m(self, instance, cls)\u001b[0m\n\u001b[1;32m    696\u001b[0m             \u001b[0;32mif\u001b[0m \u001b[0mself\u001b[0m\u001b[0;34m.\u001b[0m\u001b[0m_major\u001b[0m\u001b[0;34m:\u001b[0m\u001b[0;34m\u001b[0m\u001b[0;34m\u001b[0m\u001b[0m\n\u001b[1;32m    697\u001b[0m                 \u001b[0minstance\u001b[0m\u001b[0;34m.\u001b[0m\u001b[0mmajorTicks\u001b[0m \u001b[0;34m=\u001b[0m \u001b[0;34m[\u001b[0m\u001b[0;34m]\u001b[0m\u001b[0;34m\u001b[0m\u001b[0;34m\u001b[0m\u001b[0m\n\u001b[0;32m--> 698\u001b[0;31m                 \u001b[0mtick\u001b[0m \u001b[0;34m=\u001b[0m \u001b[0minstance\u001b[0m\u001b[0;34m.\u001b[0m\u001b[0m_get_tick\u001b[0m\u001b[0;34m(\u001b[0m\u001b[0mmajor\u001b[0m\u001b[0;34m=\u001b[0m\u001b[0;32mTrue\u001b[0m\u001b[0;34m)\u001b[0m\u001b[0;34m\u001b[0m\u001b[0;34m\u001b[0m\u001b[0m\n\u001b[0m\u001b[1;32m    699\u001b[0m                 \u001b[0minstance\u001b[0m\u001b[0;34m.\u001b[0m\u001b[0mmajorTicks\u001b[0m\u001b[0;34m.\u001b[0m\u001b[0mappend\u001b[0m\u001b[0;34m(\u001b[0m\u001b[0mtick\u001b[0m\u001b[0;34m)\u001b[0m\u001b[0;34m\u001b[0m\u001b[0;34m\u001b[0m\u001b[0m\n\u001b[1;32m    700\u001b[0m                 \u001b[0;32mreturn\u001b[0m \u001b[0minstance\u001b[0m\u001b[0;34m.\u001b[0m\u001b[0mmajorTicks\u001b[0m\u001b[0;34m\u001b[0m\u001b[0;34m\u001b[0m\u001b[0m\n",
            "\u001b[0;32m/usr/local/lib/python3.8/dist-packages/matplotlib/axis.py\u001b[0m in \u001b[0;36m_get_tick\u001b[0;34m(self, major)\u001b[0m\n\u001b[1;32m   2228\u001b[0m         \u001b[0;32melse\u001b[0m\u001b[0;34m:\u001b[0m\u001b[0;34m\u001b[0m\u001b[0;34m\u001b[0m\u001b[0m\n\u001b[1;32m   2229\u001b[0m             \u001b[0mtick_kw\u001b[0m \u001b[0;34m=\u001b[0m \u001b[0mself\u001b[0m\u001b[0;34m.\u001b[0m\u001b[0m_minor_tick_kw\u001b[0m\u001b[0;34m\u001b[0m\u001b[0;34m\u001b[0m\u001b[0m\n\u001b[0;32m-> 2230\u001b[0;31m         \u001b[0;32mreturn\u001b[0m \u001b[0mYTick\u001b[0m\u001b[0;34m(\u001b[0m\u001b[0mself\u001b[0m\u001b[0;34m.\u001b[0m\u001b[0maxes\u001b[0m\u001b[0;34m,\u001b[0m \u001b[0;36m0\u001b[0m\u001b[0;34m,\u001b[0m \u001b[0;34m''\u001b[0m\u001b[0;34m,\u001b[0m \u001b[0mmajor\u001b[0m\u001b[0;34m=\u001b[0m\u001b[0mmajor\u001b[0m\u001b[0;34m,\u001b[0m \u001b[0;34m**\u001b[0m\u001b[0mtick_kw\u001b[0m\u001b[0;34m)\u001b[0m\u001b[0;34m\u001b[0m\u001b[0;34m\u001b[0m\u001b[0m\n\u001b[0m\u001b[1;32m   2231\u001b[0m \u001b[0;34m\u001b[0m\u001b[0m\n\u001b[1;32m   2232\u001b[0m     \u001b[0;32mdef\u001b[0m \u001b[0m_get_label\u001b[0m\u001b[0;34m(\u001b[0m\u001b[0mself\u001b[0m\u001b[0;34m)\u001b[0m\u001b[0;34m:\u001b[0m\u001b[0;34m\u001b[0m\u001b[0;34m\u001b[0m\u001b[0m\n",
            "\u001b[0;32m/usr/local/lib/python3.8/dist-packages/matplotlib/axis.py\u001b[0m in \u001b[0;36m__init__\u001b[0;34m(self, axes, loc, label, size, width, color, tickdir, pad, labelsize, labelcolor, zorder, gridOn, tick1On, tick2On, label1On, label2On, major, labelrotation, grid_color, grid_linestyle, grid_linewidth, grid_alpha, **kw)\u001b[0m\n\u001b[1;32m    155\u001b[0m         \u001b[0mself\u001b[0m\u001b[0;34m.\u001b[0m\u001b[0mapply_tickdir\u001b[0m\u001b[0;34m(\u001b[0m\u001b[0mtickdir\u001b[0m\u001b[0;34m)\u001b[0m\u001b[0;34m\u001b[0m\u001b[0;34m\u001b[0m\u001b[0m\n\u001b[1;32m    156\u001b[0m \u001b[0;34m\u001b[0m\u001b[0m\n\u001b[0;32m--> 157\u001b[0;31m         \u001b[0mself\u001b[0m\u001b[0;34m.\u001b[0m\u001b[0mtick1line\u001b[0m \u001b[0;34m=\u001b[0m \u001b[0mself\u001b[0m\u001b[0;34m.\u001b[0m\u001b[0m_get_tick1line\u001b[0m\u001b[0;34m(\u001b[0m\u001b[0;34m)\u001b[0m\u001b[0;34m\u001b[0m\u001b[0;34m\u001b[0m\u001b[0m\n\u001b[0m\u001b[1;32m    158\u001b[0m         \u001b[0mself\u001b[0m\u001b[0;34m.\u001b[0m\u001b[0mtick2line\u001b[0m \u001b[0;34m=\u001b[0m \u001b[0mself\u001b[0m\u001b[0;34m.\u001b[0m\u001b[0m_get_tick2line\u001b[0m\u001b[0;34m(\u001b[0m\u001b[0;34m)\u001b[0m\u001b[0;34m\u001b[0m\u001b[0;34m\u001b[0m\u001b[0m\n\u001b[1;32m    159\u001b[0m         \u001b[0mself\u001b[0m\u001b[0;34m.\u001b[0m\u001b[0mgridline\u001b[0m \u001b[0;34m=\u001b[0m \u001b[0mself\u001b[0m\u001b[0;34m.\u001b[0m\u001b[0m_get_gridline\u001b[0m\u001b[0;34m(\u001b[0m\u001b[0;34m)\u001b[0m\u001b[0;34m\u001b[0m\u001b[0;34m\u001b[0m\u001b[0m\n",
            "\u001b[0;32m/usr/local/lib/python3.8/dist-packages/matplotlib/axis.py\u001b[0m in \u001b[0;36m_get_tick1line\u001b[0;34m(self)\u001b[0m\n\u001b[1;32m    576\u001b[0m         \u001b[0;31m# x in axes coords, y in data coords\u001b[0m\u001b[0;34m\u001b[0m\u001b[0;34m\u001b[0m\u001b[0;34m\u001b[0m\u001b[0m\n\u001b[1;32m    577\u001b[0m \u001b[0;34m\u001b[0m\u001b[0m\n\u001b[0;32m--> 578\u001b[0;31m         l = mlines.Line2D((0,), (0,),\n\u001b[0m\u001b[1;32m    579\u001b[0m                           \u001b[0mcolor\u001b[0m\u001b[0;34m=\u001b[0m\u001b[0mself\u001b[0m\u001b[0;34m.\u001b[0m\u001b[0m_color\u001b[0m\u001b[0;34m,\u001b[0m\u001b[0;34m\u001b[0m\u001b[0;34m\u001b[0m\u001b[0m\n\u001b[1;32m    580\u001b[0m                           \u001b[0mmarker\u001b[0m\u001b[0;34m=\u001b[0m\u001b[0mself\u001b[0m\u001b[0;34m.\u001b[0m\u001b[0m_tickmarkers\u001b[0m\u001b[0;34m[\u001b[0m\u001b[0;36m0\u001b[0m\u001b[0;34m]\u001b[0m\u001b[0;34m,\u001b[0m\u001b[0;34m\u001b[0m\u001b[0;34m\u001b[0m\u001b[0m\n",
            "\u001b[0;32m/usr/local/lib/python3.8/dist-packages/matplotlib/lines.py\u001b[0m in \u001b[0;36m__init__\u001b[0;34m(self, xdata, ydata, linewidth, linestyle, color, marker, markersize, markeredgewidth, markeredgecolor, markerfacecolor, markerfacecoloralt, fillstyle, antialiased, dash_capstyle, solid_capstyle, dash_joinstyle, solid_joinstyle, pickradius, drawstyle, markevery, **kwargs)\u001b[0m\n\u001b[1;32m    398\u001b[0m         \u001b[0;31m# update kwargs before updating data to give the caller a\u001b[0m\u001b[0;34m\u001b[0m\u001b[0;34m\u001b[0m\u001b[0;34m\u001b[0m\u001b[0m\n\u001b[1;32m    399\u001b[0m         \u001b[0;31m# chance to init axes (and hence unit support)\u001b[0m\u001b[0;34m\u001b[0m\u001b[0;34m\u001b[0m\u001b[0;34m\u001b[0m\u001b[0m\n\u001b[0;32m--> 400\u001b[0;31m         \u001b[0mself\u001b[0m\u001b[0;34m.\u001b[0m\u001b[0mupdate\u001b[0m\u001b[0;34m(\u001b[0m\u001b[0mkwargs\u001b[0m\u001b[0;34m)\u001b[0m\u001b[0;34m\u001b[0m\u001b[0;34m\u001b[0m\u001b[0m\n\u001b[0m\u001b[1;32m    401\u001b[0m         \u001b[0mself\u001b[0m\u001b[0;34m.\u001b[0m\u001b[0mpickradius\u001b[0m \u001b[0;34m=\u001b[0m \u001b[0mpickradius\u001b[0m\u001b[0;34m\u001b[0m\u001b[0;34m\u001b[0m\u001b[0m\n\u001b[1;32m    402\u001b[0m         \u001b[0mself\u001b[0m\u001b[0;34m.\u001b[0m\u001b[0mind_offset\u001b[0m \u001b[0;34m=\u001b[0m \u001b[0;36m0\u001b[0m\u001b[0;34m\u001b[0m\u001b[0;34m\u001b[0m\u001b[0m\n",
            "\u001b[0;32m/usr/local/lib/python3.8/dist-packages/matplotlib/artist.py\u001b[0m in \u001b[0;36mupdate\u001b[0;34m(self, props)\u001b[0m\n\u001b[1;32m   1003\u001b[0m                 \u001b[0;32mreturn\u001b[0m \u001b[0mfunc\u001b[0m\u001b[0;34m(\u001b[0m\u001b[0mv\u001b[0m\u001b[0;34m)\u001b[0m\u001b[0;34m\u001b[0m\u001b[0;34m\u001b[0m\u001b[0m\n\u001b[1;32m   1004\u001b[0m \u001b[0;34m\u001b[0m\u001b[0m\n\u001b[0;32m-> 1005\u001b[0;31m         \u001b[0;32mwith\u001b[0m \u001b[0mcbook\u001b[0m\u001b[0;34m.\u001b[0m\u001b[0m_setattr_cm\u001b[0m\u001b[0;34m(\u001b[0m\u001b[0mself\u001b[0m\u001b[0;34m,\u001b[0m \u001b[0meventson\u001b[0m\u001b[0;34m=\u001b[0m\u001b[0;32mFalse\u001b[0m\u001b[0;34m)\u001b[0m\u001b[0;34m:\u001b[0m\u001b[0;34m\u001b[0m\u001b[0;34m\u001b[0m\u001b[0m\n\u001b[0m\u001b[1;32m   1006\u001b[0m             \u001b[0mret\u001b[0m \u001b[0;34m=\u001b[0m \u001b[0;34m[\u001b[0m\u001b[0m_update_property\u001b[0m\u001b[0;34m(\u001b[0m\u001b[0mself\u001b[0m\u001b[0;34m,\u001b[0m \u001b[0mk\u001b[0m\u001b[0;34m,\u001b[0m \u001b[0mv\u001b[0m\u001b[0;34m)\u001b[0m \u001b[0;32mfor\u001b[0m \u001b[0mk\u001b[0m\u001b[0;34m,\u001b[0m \u001b[0mv\u001b[0m \u001b[0;32min\u001b[0m \u001b[0mprops\u001b[0m\u001b[0;34m.\u001b[0m\u001b[0mitems\u001b[0m\u001b[0;34m(\u001b[0m\u001b[0;34m)\u001b[0m\u001b[0;34m]\u001b[0m\u001b[0;34m\u001b[0m\u001b[0;34m\u001b[0m\u001b[0m\n\u001b[1;32m   1007\u001b[0m \u001b[0;34m\u001b[0m\u001b[0m\n",
            "\u001b[0;32m/usr/lib/python3.8/contextlib.py\u001b[0m in \u001b[0;36m__enter__\u001b[0;34m(self)\u001b[0m\n\u001b[1;32m    111\u001b[0m         \u001b[0;32mdel\u001b[0m \u001b[0mself\u001b[0m\u001b[0;34m.\u001b[0m\u001b[0margs\u001b[0m\u001b[0;34m,\u001b[0m \u001b[0mself\u001b[0m\u001b[0;34m.\u001b[0m\u001b[0mkwds\u001b[0m\u001b[0;34m,\u001b[0m \u001b[0mself\u001b[0m\u001b[0;34m.\u001b[0m\u001b[0mfunc\u001b[0m\u001b[0;34m\u001b[0m\u001b[0;34m\u001b[0m\u001b[0m\n\u001b[1;32m    112\u001b[0m         \u001b[0;32mtry\u001b[0m\u001b[0;34m:\u001b[0m\u001b[0;34m\u001b[0m\u001b[0;34m\u001b[0m\u001b[0m\n\u001b[0;32m--> 113\u001b[0;31m             \u001b[0;32mreturn\u001b[0m \u001b[0mnext\u001b[0m\u001b[0;34m(\u001b[0m\u001b[0mself\u001b[0m\u001b[0;34m.\u001b[0m\u001b[0mgen\u001b[0m\u001b[0;34m)\u001b[0m\u001b[0;34m\u001b[0m\u001b[0;34m\u001b[0m\u001b[0m\n\u001b[0m\u001b[1;32m    114\u001b[0m         \u001b[0;32mexcept\u001b[0m \u001b[0mStopIteration\u001b[0m\u001b[0;34m:\u001b[0m\u001b[0;34m\u001b[0m\u001b[0;34m\u001b[0m\u001b[0m\n\u001b[1;32m    115\u001b[0m             \u001b[0;32mraise\u001b[0m \u001b[0mRuntimeError\u001b[0m\u001b[0;34m(\u001b[0m\u001b[0;34m\"generator didn't yield\"\u001b[0m\u001b[0;34m)\u001b[0m \u001b[0;32mfrom\u001b[0m \u001b[0;32mNone\u001b[0m\u001b[0;34m\u001b[0m\u001b[0;34m\u001b[0m\u001b[0m\n",
            "\u001b[0;32m/usr/local/lib/python3.8/dist-packages/matplotlib/cbook/__init__.py\u001b[0m in \u001b[0;36m_setattr_cm\u001b[0;34m(obj, **kwargs)\u001b[0m\n\u001b[1;32m   1959\u001b[0m     \"\"\"\n\u001b[1;32m   1960\u001b[0m     \u001b[0msentinel\u001b[0m \u001b[0;34m=\u001b[0m \u001b[0mobject\u001b[0m\u001b[0;34m(\u001b[0m\u001b[0;34m)\u001b[0m\u001b[0;34m\u001b[0m\u001b[0;34m\u001b[0m\u001b[0m\n\u001b[0;32m-> 1961\u001b[0;31m     \u001b[0morigs\u001b[0m \u001b[0;34m=\u001b[0m \u001b[0;34m[\u001b[0m\u001b[0;34m(\u001b[0m\u001b[0mattr\u001b[0m\u001b[0;34m,\u001b[0m \u001b[0mgetattr\u001b[0m\u001b[0;34m(\u001b[0m\u001b[0mobj\u001b[0m\u001b[0;34m,\u001b[0m \u001b[0mattr\u001b[0m\u001b[0;34m,\u001b[0m \u001b[0msentinel\u001b[0m\u001b[0;34m)\u001b[0m\u001b[0;34m)\u001b[0m \u001b[0;32mfor\u001b[0m \u001b[0mattr\u001b[0m \u001b[0;32min\u001b[0m \u001b[0mkwargs\u001b[0m\u001b[0;34m]\u001b[0m\u001b[0;34m\u001b[0m\u001b[0;34m\u001b[0m\u001b[0m\n\u001b[0m\u001b[1;32m   1962\u001b[0m     \u001b[0;32mtry\u001b[0m\u001b[0;34m:\u001b[0m\u001b[0;34m\u001b[0m\u001b[0;34m\u001b[0m\u001b[0m\n\u001b[1;32m   1963\u001b[0m         \u001b[0;32mfor\u001b[0m \u001b[0mattr\u001b[0m\u001b[0;34m,\u001b[0m \u001b[0mval\u001b[0m \u001b[0;32min\u001b[0m \u001b[0mkwargs\u001b[0m\u001b[0;34m.\u001b[0m\u001b[0mitems\u001b[0m\u001b[0;34m(\u001b[0m\u001b[0;34m)\u001b[0m\u001b[0;34m:\u001b[0m\u001b[0;34m\u001b[0m\u001b[0;34m\u001b[0m\u001b[0m\n",
            "\u001b[0;31mKeyboardInterrupt\u001b[0m: "
          ]
        },
        {
          "output_type": "display_data",
          "data": {
            "text/plain": [
              "<Figure size 432x288 with 0 Axes>"
            ]
          },
          "metadata": {}
        }
      ],
      "source": [
        "#Display of the match times' histograms in both seasons 2000-2001 and 2020-2021\n",
        "time_categories1 = [\"5:00 PM\", \"6:00 PM\", \"6:30 PM\", \"7:00 PM\", \"7:30 PM\", \"8:00 PM\", \"8:15 PM\", \"8:30 PM\",\"8:45 PM\", \"9:00 PM\", \"9:15 PM\", \"9:30 PM\", \"10:00 PM\" ]\n",
        "div1_df_season_1[\"time\"] = pd.Categorical(div1_df_season_1[\"time\"], categories = time_categories1)\n",
        "sort_1=div1_df_season_1[\"time\"] \n",
        "plt.xticks(rotation=90)\n",
        "plt.hist(sort_1.sort_values())\n",
        "plt.ylabel(\"Number of games\")\n",
        "plt.title(\"Histogram of match times in season 2000-2001\")\n",
        "plt.show()\n",
        "\n",
        "time_categories2 = [\"1:00 PM\",\"2:00 PM\",\"4:00 PM\",\"4:15 PM\",\"5:00 PM\",\"5:30 PM\", \"6:00 PM\", \"6:30 PM\", \"7:00 PM\", \"7:15 PM\", \"7:30 PM\", \"7:45 PM\", \"8:00 PM\", \"9:00 PM\", \"9:30 PM\", \"10:00 PM\" ]\n",
        "div1_df_season_2[\"time\"] = pd.Categorical(div1_df_season_2[\"time\"], categories = time_categories2)\n",
        "sort_2=div1_df_season_2[\"time\"].dropna()\n",
        "plt.xticks(rotation=90)\n",
        "plt.hist(sort_2.sort_values())\n",
        "plt.ylabel(\"Number of games\")\n",
        "plt.title(\"Histogram of match times in season 2020-2021\")\n",
        "plt.show()"
      ]
    },
    {
      "cell_type": "markdown",
      "metadata": {
        "id": "7McRjpNkL_4l"
      },
      "source": [
        "#QUESTION 4: Build a cross results table for season 2020-2021 (1st division). Could you model the intensity of this background color with the goal difference from the match?\n",
        "\n",
        "Try to make it the most similar to this one:\n",
        "use team abbreviations as column names and paint the background of each\n",
        "cell according to result (green in case local team wins and red in case visitor\n",
        "team wins). \n",
        "\n",
        "Write a function that, given the season and division, plots the cross results table. Function prototype should be like plot_cross_results_ta-\n",
        "ble(season, division) and return the plot object.\n"
      ]
    },
    {
      "cell_type": "code",
      "execution_count": null,
      "metadata": {
        "id": "Woux1lfbUZhx"
      },
      "outputs": [],
      "source": [
        "import seaborn as sns\n",
        "from matplotlib.pyplot import figure\n",
        "\n",
        "def plot_cross_results_table(season: str, division: int):\n",
        "  div1_df = df[df[\"division\"] == division]\n",
        "  goal_diff_pm = div1_df['Home Goals'] - div1_df['Away Goals']\n",
        "  div1_df['Goal difference'] = goal_diff_pm\n",
        "  div1_df_season = div1_df[div1_df[\"season\"] == season]\n",
        "\n",
        "  ann = np.array([])\n",
        "  for i,home in enumerate(np.unique(div1_df_season['home_team'])):\n",
        "    for i,away in enumerate(np.unique(div1_df_season['home_team'])):\n",
        "      ann = np.append(ann,div1_df_season[(div1_df_season['home_team'] == home) & (div1_df_season['away_team'] == away)]['score'].values)\n",
        "\n",
        "  index = [(len(np.unique(div1_df_season['home_team']))-1)*i+i for i in range(len(np.unique(div1_df_season['home_team'])))]\n",
        "  ann = np.insert(ann, index, '-')\n",
        "\n",
        "  return sns.heatmap(pd.crosstab(div1_df_season['home_team'], div1_df_season['away_team'], div1_df_season['Goal difference'].values, \n",
        "                                 aggfunc='mean'), annot=ann.reshape(len(np.unique(div1_df_season['home_team'])),len(np.unique(div1_df_season['home_team']))),\n",
        "                                 cmap=\"RdYlGn\", cbar=False, fmt = '')\n",
        "\n",
        "plot_cross_results_table(\"2020-2021\", 1)\n",
        "plt.show()\n",
        "\n",
        "plot_cross_results_table(\"2012-2013\", 2)\n",
        "plt.show()"
      ]
    },
    {
      "cell_type": "markdown",
      "metadata": {
        "id": "dZiBkyKWMU5s"
      },
      "source": [
        "#QUESTION 5: As you surely know, there has always been a historical rivalry between Barcelona and Real Madrid. But which of them has won the most games in direct confrontations? Which of them has scored the most goals in these games? \n",
        "\n",
        "Show both things in two pie charts, side by side. Remember to consider ties in the first one.\n",
        "Write a function that, given two team names, plots the two graphs described\n",
        "above. Function prototype should be like plot_direct_confrontations_-\n",
        "stats(team1, team2) and return the plot object. Use it with some other\n",
        "classical rivals like Betis and Sevilla."
      ]
    },
    {
      "cell_type": "code",
      "execution_count": null,
      "metadata": {
        "id": "Yttzq8oDZh3Y"
      },
      "outputs": [],
      "source": [
        "#Falta pprogramar-ho com a funcio \n",
        "def plot_direct_confrontations_stats(team1, team2):\n",
        "  clasicos=div1_df[div1_df['away_team']==team1]\n",
        "  clasicos=clasicos[clasicos['home_team']==team2]\n",
        "  team1_w=0\n",
        "  team2_w=0\n",
        "\n",
        "  tie= 0\n",
        "  for i in range(len(clasicos)):\n",
        "    if clasicos['Winner'].iloc[i]=='Away':\n",
        "      team1_w+=1\n",
        "    elif clasicos['Winner'].iloc[i]=='Home':\n",
        "      team2_w+=1\n",
        "    else:\n",
        "      tie+=1\n",
        "\n",
        "  clasicos1=div1_df[div1_df['home_team']==team1]\n",
        "  clasicos1=clasicos1[clasicos1['away_team']==team2]\n",
        "  for i in range(len(clasicos1)):\n",
        "    if clasicos1['Winner'].iloc[i]=='Away':\n",
        "      team2_w+=1\n",
        "    if clasicos1['Winner'].iloc[i]=='Home':\n",
        "      team1_w+=1\n",
        "    else:\n",
        "      tie+=1\n",
        "\n",
        "  chart_clasico = np.array([team2_w, team1_w, tie])\n",
        "  labels = [team2, team1, \"Tie\"]\n",
        "  plt.pie(chart_clasico, labels=labels, autopct='%1.2f%%')\n",
        "  plt.title(\"Result distribution of all games\")\n",
        "  plt.show()\n",
        "\n",
        "  team1_g=0\n",
        "  team2_g=0\n",
        "  for i in range(len(clasicos)):\n",
        "    if clasicos['Home Goals'].iloc[i] > 0:\n",
        "      team1_g+=clasicos['Home Goals'].iloc[i]\n",
        "    elif clasicos['Away Goals'].iloc[i] > 0:\n",
        "      team2_g+=clasicos['Away Goals'].iloc[i]\n",
        "\n",
        "  for i in range(len(clasicos1)):\n",
        "    if clasicos1['Away Goals'].iloc[i] > 0:\n",
        "      team2_g+=clasicos1['Away Goals'].iloc[i]\n",
        "    if clasicos1['Home Goals'].iloc[i] > 0:\n",
        "      team1_g+=clasicos1['Home Goals'].iloc[i]\n",
        "\n",
        "  chart_clasico_goles = np.array([team2_g, team1_g])\n",
        "  labels = [team2 +\" Goals\", team1 +\" Goals\"]\n",
        "  plt.pie(chart_clasico_goles, labels=labels, autopct='%1.2f%%')\n",
        "  plt.title(\"Goal distribution of all games\")\n",
        "  plt.show() \n"
      ]
    },
    {
      "cell_type": "code",
      "execution_count": null,
      "metadata": {
        "id": "DuHB5keJn9ld"
      },
      "outputs": [],
      "source": [
        "plot_direct_confrontations_stats('Real Madrid', 'Barcelona')\n",
        "plot_direct_confrontations_stats('Sevilla FC', 'Real Betis')\n"
      ]
    },
    {
      "cell_type": "markdown",
      "metadata": {
        "id": "9k0Soa8Uga_m"
      },
      "source": [
        "#QUESTION 6: Between 1979 and 1980, Real Sociedad managed to chain a total of 38 games without losing. That was, by far, the longest undefeated streak in their history. Which teams have had the longest undefeated streaks? \n",
        "\n",
        "Show the\n",
        "longest undefeated streaks in a horizontal bar plot, indicating in each bar\n",
        "the team name and the dates it held that streak, for instance, Real Sociedad\n",
        "22/04/1979 - 04/05/1980."
      ]
    },
    {
      "cell_type": "code",
      "execution_count": null,
      "metadata": {
        "id": "qzzhfc-yNCUQ"
      },
      "outputs": [],
      "source": [
        "#Create a list with all the teams\n",
        "df['home_team'].tolist()\n",
        "Equips = list(dict.fromkeys(df['home_team'].tolist()))\n",
        "\n",
        "#Calculate the undefeated streaks\n",
        "Max_streak = []\n",
        "Wins = []\n",
        "Dates = []\n",
        "Final = []\n",
        "\n",
        "for i in range(len(Equips)):\n",
        "  Curr_streak = 0\n",
        "  Streak = 0\n",
        "  for j in range(len(df)):\n",
        "    if df['home_team'][j] == Equips[i]:\n",
        "      if df['Home Goals'][j] >= df['Away Goals'][j]:\n",
        "        Curr_streak +=1\n",
        "        Streak = Curr_streak\n",
        "        Wins.append(Streak)\n",
        "\n",
        "      elif df['Home Goals'][j] < df['Away Goals'][j]:\n",
        "        Curr_streak = 0\n",
        "        Wins.append(Curr_streak)\n",
        "    \n",
        "    if df['away_team'][j] == Equips[i]:\n",
        "      if df['Home Goals'][j] <= df['Away Goals'][j]:\n",
        "        Curr_streak += 1\n",
        "        Streak = Curr_streak\n",
        "        Wins.append(Streak)\n",
        "      else:\n",
        "        Curr_streak = 0\n",
        "        Wins.append(Curr_streak)\n",
        "\n",
        "  if Wins ==[]:\n",
        "    Wins = [0]\n",
        "  Max_streak.append(np.max(Wins))\n",
        "  df_team = df[(df['away_team']== Equips[i]) | (df['home_team']== Equips[i])].reset_index()\n",
        "  \n",
        "  if Wins.index(np.max(Wins))-(np.max(Wins)) < 0:\n",
        "    Start_streak = df_team['date'][Wins.index(np.max(Wins))-(np.max(Wins)-1)].split('/')[1] + '/' + df_team['date'][Wins.index(np.max(Wins))-(np.max(Wins)-1)].split('/')[0] + '/' + df_team['date'][Wins.index(np.max(Wins))-(np.max(Wins)-1)].split('/')[2]\n",
        "  else:\n",
        "    Start_streak = df_team['date'][Wins.index(np.max(Wins))-(np.max(Wins))].split('/')[1] + '/' + df_team['date'][Wins.index(np.max(Wins))-(np.max(Wins))].split('/')[0] + '/' + df_team['date'][Wins.index(np.max(Wins))-(np.max(Wins))].split('/')[2]\n",
        "\n",
        "  End_streak = df_team['date'][Wins.index(np.max(Wins))].split('/')[1] + '/' + df_team['date'][Wins.index(np.max(Wins))].split('/')[0] + '/' + df_team['date'][Wins.index(np.max(Wins))].split('/')[2]\n",
        "  Dates.append('(' +Start_streak +' - '+ End_streak +')')\n",
        "  Final.append(Equips[i] + ' ' + Dates[i])\n",
        "\n",
        "  Wins = []\n",
        "\n",
        "# Figure Size\n",
        "fig, ax = plt.subplots(figsize =(35, 12))   \n",
        "# Horizontal Bar Plot\n",
        "plt.bar(Final, Max_streak)\n",
        "plt.xticks(rotation=90)\n",
        "\n",
        " \n",
        "# Show Plot\n",
        "plt.show()"
      ]
    },
    {
      "cell_type": "markdown",
      "metadata": {
        "id": "2buQtxg9giXm"
      },
      "source": [
        "#QUESTION 7: Create a table with the final standings of each season (and division), that is, a table that contains all the teams ordered (in descending order) by the number of points they got during that season, and some other aggregate statistics. The table must contain the following columns: season, division, ranking, team, GF (total goals scored), GA (total goals conceded), GD (goals difference), W (total wins), L (total loses), T (total ties), Pts (points). Remember that, in football, you earn 3 points per victory, and 1 point per tie (none for loses). \n",
        "\n",
        "In case two teams have same number of points, order by GD (de- scending), and then by GF (also descending). Order the table so that stand- ings of one season come before standings of previous one, and standings of 1st division come before standings of 2nd division.\n",
        "\n",
        "Save the final table in Excel with the name SeasonStandings.xlsx in the\n",
        "reports/ folder.\n"
      ]
    },
    {
      "cell_type": "code",
      "execution_count": 22,
      "metadata": {
        "id": "2lFxIZRIBwmH"
      },
      "outputs": [],
      "source": [
        "def calculate_ranks(data, season):\n",
        "    # Filter data for given season\n",
        "    season_data = data[data[\"season\"] == season]\n",
        "    season_data1= season_data[season_data[\"division\"] == 1]\n",
        "    season_data2= season_data[season_data[\"division\"] == 2]\n",
        "    teams_1 = set(season_data1[\"home_team\"]).union(set(season_data1[\"away_team\"]))\n",
        "    teams_2 = set(season_data2[\"home_team\"]).union(set(season_data2[\"away_team\"]))\n",
        "    # Create dictionaries to store points, wins, losses, ties, total_goals, goals_conceded, and goal_difference for each team\n",
        "    points1 = {team: 0 for team in teams_1}\n",
        "    wins1 = {team: 0 for team in teams_1}\n",
        "    losses1 = {team: 0 for team in teams_1}\n",
        "    ties1 = {team: 0 for team in teams_1}\n",
        "    total_goals1 = {team: 0 for team in teams_1}\n",
        "    goals_conceded1 = {team: 0 for team in teams_1}\n",
        "    goal_difference1 = {team: 0 for team in teams_1}\n",
        "    for index, row in season_data1.iterrows():\n",
        "        home_team = row[\"home_team\"]\n",
        "        away_team = row[\"away_team\"]\n",
        "        home_goals = row[\"Home Goals\"]\n",
        "        away_goals = row[\"Away Goals\"]\n",
        "        total_goals1[home_team] += home_goals\n",
        "        goals_conceded1[home_team] += away_goals\n",
        "        goal_difference1[home_team] += home_goals - away_goals\n",
        "        total_goals1[away_team] += away_goals\n",
        "        goals_conceded1[away_team] += home_goals\n",
        "        goal_difference1[away_team] += away_goals - home_goals\n",
        "        if home_goals > away_goals:\n",
        "            points1[home_team] += 3\n",
        "            wins1[home_team] += 1\n",
        "            losses1[away_team] += 1\n",
        "        elif home_goals < away_goals:\n",
        "            points1[away_team] += 3\n",
        "            wins1[away_team] += 1\n",
        "            losses1[home_team] += 1\n",
        "        else:\n",
        "            points1[home_team] += 1\n",
        "            points1[away_team] += 1\n",
        "            ties1[home_team] += 1\n",
        "            ties1[away_team] += 1\n",
        "    # Repeat the same process for division 2\n",
        "    points2 = {team: 0 for team in teams_2}\n",
        "    wins2 = {team: 0 for team in teams_2}\n",
        "    losses2 = {team: 0 for team in teams_2}\n",
        "    ties2 = {team: 0 for team in teams_2}\n",
        "    total_goals2 = {team: 0 for team in teams_2}\n",
        "    goals_conceded2 = {team: 0 for team in teams_2}\n",
        "    goal_difference2 = {team: 0 for team in teams_2}\n",
        "    for index, row in season_data2.iterrows():\n",
        "        home_team = row[\"home_team\"]\n",
        "        away_team = row[\"away_team\"]\n",
        "        home_goals = row[\"Home Goals\"]\n",
        "        away_goals = row[\"Away Goals\"]\n",
        "        total_goals2[home_team] += home_goals\n",
        "        goals_conceded2[home_team] += away_goals\n",
        "        goal_difference2[home_team] += home_goals - away_goals\n",
        "        total_goals2[away_team] += away_goals\n",
        "        goals_conceded2[away_team] += home_goals\n",
        "        goal_difference2[away_team] += away_goals - home_goals\n",
        "        if home_goals > away_goals:\n",
        "            points2[home_team] += 3\n",
        "            wins2[home_team] += 1\n",
        "            losses2[away_team] += 1\n",
        "        elif home_goals < away_goals:\n",
        "            points2[away_team] += 3\n",
        "            wins2[away_team] += 1\n",
        "            losses2[home_team] += 1\n",
        "        else:\n",
        "            points2[home_team] += 1\n",
        "            points2[away_team] += 1\n",
        "            ties2[home_team] += 1\n",
        "            ties2[away_team] += 1\n",
        "    # Create lists to store the values of each division\n",
        "    teams_div1 = []\n",
        "    teams_div2 = []\n",
        "    # Append the values of each team in division 1 and 2 to the respective list\n",
        "    for team in teams_1:\n",
        "      teams_div1.append({\"season\": season, \"division\": 1,\"team\": team,  \"points\": points1[team], \"W\": wins1[team], \"L\": losses1[team], \"T\": ties1[team], \"GF\": total_goals1[team], \"GA\": goals_conceded1[team], \"GD\": goal_difference1[team]})\n",
        "    for team in teams_2:\n",
        "        teams_div2.append({\"season\": season, \"division\": 2,\"team\": team, \"points\": points2[team], \"W\": wins2[team], \"L\": losses2[team], \"T\": ties2[team], \"GF\": total_goals2[team], \"GA\": goals_conceded2[team], \"GD\": goal_difference2[team]})\n",
        "    # Concatenate the lists\n",
        "    teams_div1.extend(teams_div2)\n",
        "    # Sort the teams by total points, goal difference, and total goals\n",
        "    sorted_teams = sorted(teams_div1, key=lambda x: (x['division'], -x[\"points\"], -x[\"GD\"], -x[\"GF\"]))\n",
        "    return sorted_teams"
      ]
    },
    {
      "cell_type": "code",
      "source": [
        "# List of seasons\n",
        "seasons=list(dict.fromkeys(df['season'].tolist()))\n",
        "seasons = inverted_list = seasons[::-1]\n",
        "seasons.pop(0)\n",
        "df = df.dropna(subset=['score'])\n",
        "\n",
        "\n",
        "# Create an empty list to store the rankings\n",
        "rankings = []\n",
        "\n",
        "# Iterate over the seasons\n",
        "for season in seasons:\n",
        "    # Call the calculate_ranks function for each season\n",
        "    season_rankings = calculate_ranks(df, season)\n",
        "    # Append the results to the rankings list\n",
        "    rankings.extend(season_rankings)\n",
        "\n",
        "\n",
        "rankings_df = pd.DataFrame(rankings)\n",
        "\n",
        "# Group the teams by division and season\n",
        "rankings_df_grouped = rankings_df.groupby([\"division\", \"season\"])\n",
        "# Assign the rank for each team\n",
        "rankings_df[\"rank\"] = rankings_df_grouped[\"points\"].rank(method=\"first\", ascending=False)\n",
        "# Reset the index of the DataFrame\n",
        "rankings_df = rankings_df.reset_index(drop=True)\n",
        "# Re-index the DataFrame with the rank column\n",
        "rankings_df.index = rankings_df[\"rank\"]\n",
        "# Save the dataframe to an Excel file\n",
        "\n",
        "writer = pd.ExcelWriter(\"reports/SeasonStandings.xlsx\")\n",
        "rankings_df.to_excel(writer, sheet_name=\"Rankings\", index=False)\n",
        "writer.save()"
      ],
      "metadata": {
        "id": "-aPdrz1aJRZb"
      },
      "execution_count": 28,
      "outputs": []
    },
    {
      "cell_type": "markdown",
      "metadata": {
        "id": "_ONTvI5_gisV"
      },
      "source": [
        "#QUESTION 8: Villarreal is a team that has grown a lot in recent decades. Specially ever since some billionaire guy bought it (Fernando Roig, from Mercadona).Make a line plot showing the rank of Villarreal at the end of each season,from the oldest ones (left) to the earliest ones (right). Consider rankings in 2nd division to be a continuation of the 1st one, that is, if there’s N teams in 1st division and Villarreal got r position in 2nd division, then it should be placed in N + r. Draw in the same plot a line showing the cut between 1st and 2nd division.\n",
        "\n",
        "Write a function that, given n team names, plots the graph described above\n",
        "of each one of them superposed. Function prototype should be like plot_-\n",
        "ranking_evolution(team1, team2, ..., teamN) and return the plot ob-\n",
        "ject (note that function should not take one array-type argument, but n ar-\n",
        "guments). Use it to compare the evolution of all the teams that currently\n",
        "play in 1st division."
      ]
    },
    {
      "cell_type": "code",
      "source": [
        "def calculate_ranks(data, season):\n",
        "    # Filter data for given season\n",
        "    season_data = data[data[\"season\"] == season]\n",
        "    season_data1= season_data[season_data[\"division\"] == 1]\n",
        "    season_data2= season_data[season_data[\"division\"] == 2]\n",
        "    teams_1 = set(season_data1[\"home_team\"]).union(set(season_data1[\"away_team\"]))\n",
        "    teams_2 = set(season_data2[\"home_team\"]).union(set(season_data2[\"away_team\"]))\n",
        "    # Create a dictionary to store points for each team\n",
        "    points1 = {team: 0 for team in teams_1}\n",
        "    for index, row in season_data1.iterrows():\n",
        "        home_team = row[\"home_team\"]\n",
        "        away_team = row[\"away_team\"]\n",
        "        home_goals = row[\"Home Goals\"]\n",
        "        away_goals = row[\"Away Goals\"]\n",
        "        if home_goals > away_goals:\n",
        "            points1[home_team] += 3\n",
        "        elif home_goals < away_goals:\n",
        "            points1[away_team] += 3\n",
        "        else:\n",
        "            points1[home_team] += 1\n",
        "            points1[away_team] += 1\n",
        "    # Sort teams by points in descending order\n",
        "    sorted_teams1 = sorted(points1, key=points1.get, reverse=True)\n",
        "\n",
        "        # Create a dictionary to store points for each team\n",
        "    points2 = {team: 0 for team in teams_2}\n",
        "    for index, row in season_data2.iterrows():\n",
        "        home_team = row[\"home_team\"]\n",
        "        away_team = row[\"away_team\"]\n",
        "        home_goals = row[\"Home Goals\"]\n",
        "        away_goals = row[\"Away Goals\"]\n",
        "        if home_goals > away_goals:\n",
        "            points2[home_team] += 3\n",
        "        elif home_goals < away_goals:\n",
        "            points2[away_team] += 3\n",
        "        else:\n",
        "            points2[home_team] += 1\n",
        "            points2[away_team] += 1\n",
        "    # Sort teams by points in descending order\n",
        "    sorted_teams2 = sorted(points2, key=points2.get, reverse=True)\n",
        "\n",
        "    return sorted_teams1+sorted_teams2\n",
        "\n",
        "#matrix with division ranks for each season\n",
        "seasons=list(dict.fromkeys(df['season'].tolist()))\n",
        "rank_evolution=[]\n",
        "i=0\n",
        "for i in range(len(seasons)):\n",
        "  rank_season=calculate_ranks(df, seasons[i])\n",
        "  rank_evolution.append(rank_season)\n",
        "\n",
        "# count the number of teams in division 1\n",
        "season_groups = df.groupby([\"season\", \"division\"])\n",
        "i=0\n",
        "cut_list=[]\n",
        "for i in range(len(seasons)):\n",
        "  first_division_teams = season_groups.filter(lambda x: x[\"division\"].iloc[0] == 1 and x[\"season\"].iloc[0] == seasons[i])\n",
        "  count_teams=len(list(dict.fromkeys(first_division_teams['home_team'].tolist())))\n",
        "  cut_list.append(count_teams)\n",
        "rank_dict = {team:[] for teams in rank_evolution for team in teams}\n",
        "\n",
        "# Iterate over the rank_evolution list and seasons list\n",
        "for season, ranked_teams in zip(seasons, rank_evolution):\n",
        "    # Iterate over the ranked teams\n",
        "    for i, team in enumerate(ranked_teams):\n",
        "        rank_dict[team].append((season, i+1))\n",
        "    # add a tuple containing the season and None to the teams that not play that season\n",
        "    for team in set(rank_dict.keys()).difference(ranked_teams):\n",
        "        rank_dict[team].append((season, None))\n",
        "        # rank_dict = {'team1': [1, 2, 3, 4], 'team2': [5, 4, 3, 2], ...}\n",
        "\n",
        "def plot_ranking_evolution(*teams):    \n",
        "\n",
        "    # Create an empty list to store the lines for each team\n",
        "    lines = []\n",
        "\n",
        "    # Iterate through each team and create a line for their rank position in each season\n",
        "def plot_ranking_evolution(*teams):    \n",
        "\n",
        "    # Create an empty list to store the lines for each team\n",
        "    lines = []\n",
        "\n",
        "    # Iterate through each team and create a line for their rank position in each season\n",
        "    for team in teams:\n",
        "        team_ranks = [rank for season,rank in rank_dict[team]]\n",
        "        line, = plt.plot(range(len(team_ranks)), team_ranks, label=team)\n",
        "        lines.append(line)\n",
        "\n",
        "    lines=[]   \n",
        "    cut_line, = plt.plot(range(len(cut_list)), cut_list, '--',color='gray', label='cut between 1st divsion and 2nd division')\n",
        "    lines.append(cut_line)\n",
        "   \n",
        "    # Add labels and a legend to the chart\n",
        "    plt.xlabel('Seasons')\n",
        "    plt.ylabel('Rank Position')\n",
        "    plt.xticks(range(0,len(seasons),10), seasons[0::10], rotation=90)\n",
        "    plt.legend(bbox_to_anchor=(1.05, 1.0), loc='upper left')\n",
        "    plt.figure(figsize=(12, 4))\n",
        "    plt.show()"
      ],
      "metadata": {
        "id": "y9o4J1IjAEgu"
      },
      "execution_count": null,
      "outputs": []
    },
    {
      "cell_type": "code",
      "source": [
        "plot_ranking_evolution('Villarreal', 'Barcelona', 'Real Madrid')"
      ],
      "metadata": {
        "id": "WPaVudSaTaAM"
      },
      "execution_count": null,
      "outputs": []
    },
    {
      "cell_type": "markdown",
      "metadata": {
        "id": "GKj60nQPgoO-"
      },
      "source": [
        "#QUESTION 9: In football jargon, those teams that are permanently descending and ascending between 1st and 2nd division are called elevator teams. What are the most elevator teams in LaLiga? \n",
        "\n",
        "Plot the history of the top 5 of them using the function from exercise 9"
      ]
    },
    {
      "cell_type": "code",
      "execution_count": null,
      "metadata": {
        "id": "yJFaCvcvbPKa"
      },
      "outputs": [],
      "source": [
        "#A partir de l'exercici anterior, en el que s'hauria de calcular a partir de quina posicio en la taula comencen els equips de segona, es pot mirar comprobar per a un equip si la seva posició esta per sobre o per sota. \n",
        "teams = set(df['home_team']).union(set(df['away_team']))\n",
        "team_seasons = {team:[] for team in teams}\n",
        "for season in seasons:\n",
        "    #Filter data for given season\n",
        "    season_data = df[df[\"season\"] == season]\n",
        "    season_data1= season_data[season_data[\"division\"] == 1]\n",
        "    season_data2= season_data[season_data[\"division\"] == 2]\n",
        "    teams_1 = set(season_data1[\"home_team\"]).union(set(season_data1[\"away_team\"]))\n",
        "    teams_2 = set(season_data2[\"home_team\"]).union(set(season_data2[\"away_team\"]))\n",
        "    for team in teams_1:\n",
        "        team_seasons[team].append((season, 1))\n",
        "    for team in teams_2:\n",
        "        team_seasons[team].append((season, 2))\n",
        "    for team in teams:\n",
        "        if team not in teams_1 and team not in teams_2:\n",
        "            team_seasons[team].append((season, None))\n",
        "\n",
        "\n",
        "print(team_seasons)"
      ]
    },
    {
      "cell_type": "code",
      "source": [
        "ascensions = {team: 0 for team in team_seasons}\n",
        "for team in team_seasons:\n",
        "    for i in range(len(team_seasons[team])-1):\n",
        "        if team_seasons[team][i][1] == 2 and team_seasons[team][i+1][1] == 1:\n",
        "            ascensions[team] +=1\n",
        "\n",
        "top_5_teams = sorted(ascensions, key=ascensions.get, reverse=True)[:5]\n",
        "\n",
        "print(top_5_teams)"
      ],
      "metadata": {
        "id": "fQ39Fpy2MyIX"
      },
      "execution_count": null,
      "outputs": []
    },
    {
      "cell_type": "code",
      "source": [
        "plot_ranking_evolution('Dep. La Coruña', 'Racing', 'Rayo Vallecano', 'Real Valladolid', 'Real Betis')"
      ],
      "metadata": {
        "id": "zX0G0cn_P_2s"
      },
      "execution_count": null,
      "outputs": []
    },
    {
      "cell_type": "markdown",
      "metadata": {
        "id": "mSHXEEqPgojq"
      },
      "source": [
        "#QUESTION 10: Create a table that is the same as the one in exercise 7, but not only with the season final standings, but the standings at the end of each matchday. Columns are the same, including matchday that tells about which match- day from the season these standings are from. Would you be able to add a new column last_5 with the result of last 5 matches? This column should contain a list like [\"W\", \"L\", \"W\", \"T\", \"T\"]. In this list, the first item is the immediate previous match, the second one is the match before this one, and so on. \n",
        "\n",
        "If there are no 5 previous matches (because matchday < 6, for\n",
        "instance) then just make the list shorter.\n",
        "Save the final table in Excel with the name MatchdayStandings.xlsx in the\n",
        "reports/ folder."
      ]
    },
    {
      "cell_type": "code",
      "source": [
        "# Create a new DataFrame with matchday information\n",
        "df_matchday = df[[\"home_team\", \"away_team\", \"season\", \"matchday\", \"Home Goals\", \"Away Goals\"]]\n",
        "\n",
        "# Group the DataFrame by team and matchday\n",
        "grouped = df_matchday.groupby([\"home_team\", \"season\", \"matchday\"])\n",
        "\n",
        "# Calculate the points, wins, losses, ties, total goals, goals conceded, and goal difference for each team and matchday\n",
        "points = grouped[\"Home Goals\"].sum() - grouped[\"Away Goals\"].sum()\n",
        "wins = grouped[\"Home Goals\"].sum() > grouped[\"Away Goals\"].sum()\n",
        "losses = grouped[\"Home Goals\"].sum() < grouped[\"Away Goals\"].sum()\n",
        "ties = grouped[\"Home Goals\"].sum() == grouped[\"Away Goals\"].sum()\n",
        "total_goals = grouped[\"Home Goals\"].sum() + grouped[\"Away Goals\"].sum()\n",
        "goals_conceded = grouped[\"Away Goals\"].sum()\n",
        "goal_difference = points\n",
        "\n",
        "# Create a new DataFrame with the matchday statistics\n",
        "matchday_stats = pd.DataFrame({\"points\": points, \"wins\": wins, \"losses\": losses, \"ties\": ties\n"
      ],
      "metadata": {
        "id": "fgkObQn2Wbgj"
      },
      "execution_count": null,
      "outputs": []
    },
    {
      "cell_type": "code",
      "source": [
        "pwd"
      ],
      "metadata": {
        "colab": {
          "base_uri": "https://localhost:8080/",
          "height": 35
        },
        "id": "ncV8UGFfcoOB",
        "outputId": "566966be-9a58-4aec-d229-237dbc5e0451"
      },
      "execution_count": 32,
      "outputs": [
        {
          "output_type": "execute_result",
          "data": {
            "text/plain": [
              "'/root'"
            ],
            "application/vnd.google.colaboratory.intrinsic+json": {
              "type": "string"
            }
          },
          "metadata": {},
          "execution_count": 32
        }
      ]
    },
    {
      "cell_type": "markdown",
      "metadata": {
        "id": "GU0p4Z8Tgvw6"
      },
      "source": [
        "#MACHINE LEARNING"
      ]
    }
  ],
  "metadata": {
    "colab": {
      "collapsed_sections": [
        "dZiBkyKWMU5s",
        "9k0Soa8Uga_m",
        "2buQtxg9giXm",
        "GKj60nQPgoO-",
        "mSHXEEqPgojq",
        "GU0p4Z8Tgvw6"
      ],
      "provenance": [],
      "include_colab_link": true
    },
    "kernelspec": {
      "display_name": "Python 3",
      "name": "python3"
    },
    "language_info": {
      "name": "python"
    }
  },
  "nbformat": 4,
  "nbformat_minor": 0
}